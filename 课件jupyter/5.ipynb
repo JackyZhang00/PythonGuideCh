{
 "cells": [
  {
   "attachments": {},
   "cell_type": "markdown",
   "metadata": {},
   "source": [
    "# Python入门教程"
   ]
  },
  {
   "attachments": {},
   "cell_type": "markdown",
   "metadata": {},
   "source": [
    "## 第五章 条件语句"
   ]
  },
  {
   "attachments": {},
   "cell_type": "markdown",
   "metadata": {},
   "source": [
    "### 5.1 基本的`if`语句"
   ]
  },
  {
   "attachments": {},
   "cell_type": "markdown",
   "metadata": {},
   "source": [
    "基本的`if`语句使用下面的格式：\n",
    "\n",
    "```Python\n",
    "if 条件1:\n",
    "    语句块1\n",
    "其他语句\n",
    "```\n",
    "\n",
    "在执行上述程序块时，程序首先判断`条件1`是否满足，若满足，则执行下面的`语句块1`，然后执行`其他语句`；若不满足，则直接执行`其他语句`。\n",
    "\n",
    "请务必注意**冒号**和**缩进**！"
   ]
  },
  {
   "attachments": {},
   "cell_type": "markdown",
   "metadata": {},
   "source": [
    "例如，下面的代码读取用户输入的`x`，判断其是否大于20，如果是则输出100+200（300），否则输出0+0（0）："
   ]
  },
  {
   "cell_type": "code",
   "execution_count": null,
   "metadata": {},
   "outputs": [],
   "source": [
    "x = int(input()) # 输入一个整数\n",
    "y = z = 0 \n",
    "if x>20: # 判断x>20? 注意后面的冒号\n",
    "    y = 100 # 语句块要缩进（通常是4个空格或1个tab）\n",
    "    z = 200 # 对于同一个语句块，缩进要统一\n",
    "print(y+z) # 外层语句没有缩进"
   ]
  },
  {
   "attachments": {},
   "cell_type": "markdown",
   "metadata": {},
   "source": [
    "### 5.2 二分支条件语句（`if-else`）"
   ]
  },
  {
   "attachments": {},
   "cell_type": "markdown",
   "metadata": {},
   "source": [
    "下面的格式实现了`if-else`语句：\n",
    "\n",
    "```Python\n",
    "if 条件1:\n",
    "    语句块1\n",
    "else:\n",
    "    语句块2\n",
    "其他语句\n",
    "```\n",
    "\n",
    "程序在执行这段代码时，首先判断`条件1`是否满足，如果满足，执行`语句块1`，然后执行`其他语句`；若条件不满足，则依次执行`语句块2`和`其他语句`。\n",
    "\n",
    "例如，下面的代码，用以判断用户输入的数字是偶数还是奇数："
   ]
  },
  {
   "cell_type": "code",
   "execution_count": null,
   "metadata": {},
   "outputs": [],
   "source": [
    "x = int(input()) # 输入一个整数x\n",
    "if x%2==0: # 判断x是否为偶数\n",
    "    print(x,\"是偶数\")\n",
    "else: # 否则的话……\n",
    "    print(x,\"是奇数\")"
   ]
  },
  {
   "attachments": {},
   "cell_type": "markdown",
   "metadata": {},
   "source": [
    "对于任意语句块而言，其内部也可以包含条件语句。对于不同的条件语句，唯一需要注意的就是**缩进**的对齐。对于有`else`的语句，其会和它所在缩进相对应的`if`匹配。下面的代码体现了这一点："
   ]
  },
  {
   "cell_type": "code",
   "execution_count": null,
   "metadata": {},
   "outputs": [],
   "source": [
    "x = 5\n",
    "if x>0:\n",
    "    if x>6: # 内部嵌套if语句\n",
    "        print(\"1\")\n",
    "    else: #这个else和里面的\"x>6\"的if对应\n",
    "        print(\"2\")"
   ]
  },
  {
   "cell_type": "code",
   "execution_count": null,
   "metadata": {},
   "outputs": [],
   "source": [
    "x = 5\n",
    "if x>0:\n",
    "    if x>6:\n",
    "        print(\"1\")\n",
    "else: # 请注意这个代码和上面代码的不同……（输出什么？）\n",
    "    print(\"2\")"
   ]
  },
  {
   "attachments": {},
   "cell_type": "markdown",
   "metadata": {},
   "source": [
    "### 5.3 多分支条件语句（`if-elif-else`）"
   ]
  },
  {
   "attachments": {},
   "cell_type": "markdown",
   "metadata": {},
   "source": [
    "下面的结构实现了多分支：\n",
    "\n",
    "```Python\n",
    "if condition1:\n",
    "    statements1\n",
    "elif condition2:\n",
    "    statements2\n",
    "elif condition3:\n",
    "    statements3\n",
    "else:\n",
    "    statements4\n",
    "statements5\n",
    "```\n",
    "\n",
    "程序在执行时，按照如下方式进行判断：\n",
    "- 首先判断`condition1`是否满足，若满足，则执行`statements1`和`statements5`；否则……\n",
    "  - 判断`condition2`是否满足，若满足，则执行`statements2`和`statements5`；否则……\n",
    "    - 判断`condition3`是否满足，若满足，则执行`statements3`和`statements5`；否则……\n",
    "      - 执行`statements4`和`statements5`\n",
    "\n",
    "下面的代码通过`if-elif-else`语句，实现了**分段函数**的功能："
   ]
  },
  {
   "cell_type": "code",
   "execution_count": null,
   "metadata": {},
   "outputs": [],
   "source": [
    "x = int(input())\n",
    "f = 0\n",
    "if x<0: # 当x<0时\n",
    "    f = -1\n",
    "elif x==0: # 如果x==0（类似于C语言中的else if）\n",
    "    f = 0\n",
    "else: # 排除上面所有情况使用else\n",
    "    f = 2*x\n",
    "print(f)"
   ]
  },
  {
   "attachments": {},
   "cell_type": "markdown",
   "metadata": {},
   "source": [
    "### 5.4 条件表达式"
   ]
  },
  {
   "attachments": {},
   "cell_type": "markdown",
   "metadata": {},
   "source": [
    "如果我们希望解决如下问题：\n",
    "\n",
    "- 若条件满足时，变量等于某一个值，否则变量等于另一个值\n",
    "\n",
    "除了使用前面所说的`if-else`语句外，也可以使用下面的**条件表达式**。其基本格式为：\n",
    "\n",
    "```Python\n",
    "value1 if condition else value2 \n",
    "```\n",
    "\n",
    "正如英文的含义，上述表达式的含义是：**如果`condition`满足，则值为`value1`，否则值为`value2`**\n",
    "\n",
    "例如，下面的代码很巧妙地实现了绝对值功能："
   ]
  },
  {
   "cell_type": "code",
   "execution_count": null,
   "metadata": {},
   "outputs": [],
   "source": [
    "x = int(input())\n",
    "print(x if x>=0 else -x) # 这个条件表达式的含义是“如果x>=0则为x，否则值为-x”"
   ]
  },
  {
   "attachments": {},
   "cell_type": "markdown",
   "metadata": {},
   "source": [
    "### 5.5 异常处理"
   ]
  },
  {
   "attachments": {},
   "cell_type": "markdown",
   "metadata": {},
   "source": [
    "异常处理并不属于条件语句，但由于其语法结构，以及它的执行方式和条件语句类似。因此我们在这一章讲解异常，以及它的处理方法。\n",
    "\n",
    "在程序运行过程中，有可能会发生**异常**，若没有任何处理方式，Python将会输出错误信息（包括它的错误类型，以及发生错误的地方），然后终止程序。例如，下面的代码通过索引错误的列表下标（**越界**）而出现异常："
   ]
  },
  {
   "cell_type": "code",
   "execution_count": null,
   "metadata": {},
   "outputs": [],
   "source": [
    "lst = [1,2,3]\n",
    "a = lst[4] # 下标越界（想想下标最大为多少？）导致程序抛出异常而终止\n",
    "print(a) # 这个print没有执行！（并不是因为没有a，你可以试着改成一段字符串试试）"
   ]
  },
  {
   "attachments": {},
   "cell_type": "markdown",
   "metadata": {},
   "source": [
    "对于有可能抛出异常的程序，可以使用`try-except`语句进行处理。其基本结构如下：\n",
    "```Python\n",
    "try:\n",
    "    可能抛出异常的程序块\n",
    "except:\n",
    "    异常处理语句\n",
    "其他语句\n",
    "```\n",
    "\n",
    "在程序运行过程中，若程序在`try`内抛出异常，则会执行`except`的程序块。无论是否抛出异常，均会执行`其他语句`。\n",
    "\n",
    "下面的程序解决了上述异常程序："
   ]
  },
  {
   "cell_type": "code",
   "execution_count": null,
   "metadata": {},
   "outputs": [],
   "source": [
    "lst = [1,2,3]\n",
    "try: # try内的语句块相当于“尝试”\n",
    "    a = lst[4] # 显然，这里抛出了异常\n",
    "    print(a) # 抛出异常后，并没有执行这句print\n",
    "except: # 如果捕获到异常，则会执行下面的except……\n",
    "    print(\"下标越界\") # 输出“下标越界”\n",
    "print(\"END\") # 异常已经处理了，因此输出“END”"
   ]
  },
  {
   "attachments": {},
   "cell_type": "markdown",
   "metadata": {},
   "source": [
    "在`except`后面，可以接特定的异常类型。例如，上述异常为<code><font color=\"red\">IndexError</font></code>，因此可以将上述代码进一步改写为："
   ]
  },
  {
   "cell_type": "code",
   "execution_count": null,
   "metadata": {},
   "outputs": [],
   "source": [
    "lst = [1,2,3]\n",
    "try:\n",
    "    a = lst[4]\n",
    "    print(a)\n",
    "except IndexError: # 指定特定的异常类型，即只有捕获到IndexError异常才会执行下面的语句块\n",
    "    print(\"下标错误\")\n",
    "print(\"END\")"
   ]
  },
  {
   "attachments": {},
   "cell_type": "markdown",
   "metadata": {},
   "source": [
    "完整的`try-except`语句结构如下所示：\n",
    "```Python\n",
    "try:\n",
    "    语句块1\n",
    "except 异常1:\n",
    "    语句块2\n",
    "except 异常2:\n",
    "    语句块3\n",
    "except 异常3:\n",
    "    语句块4\n",
    "except:\n",
    "    语句块5\n",
    "finally:\n",
    "    语句块6\n",
    "其他语句\n",
    "```\n",
    "\n",
    "程序在执行语句块1时，会根据抛出异常类型，选择不同的语句块2,3,4，若异常1,2,3均没有所列出类型，则执行语句块5.无论是否抛出异常，均会执行语句块6.最后执行其他语句。\n",
    "\n",
    "下面列出常见的异常类型：\n",
    "|异常名称|描述|异常名称|描述|\n",
    "|:-:|:-:|:-:|:-:|\n",
    "|SystemExit|解释器请求退出|RuntimeError|一般的运行时错误|\n",
    "|FloatingPointError|浮点计算错误|AttributeError|对象没有该属性|\n",
    "|OverflowError|数值运算超出最大限制|IOError|输入/输出失败|\n",
    "|ZeroDivisionError|除（取模）零（所有数据类型）|KeyError|映射没有的键|\n",
    "|KeyboardInterrupt|用户中断输入（^C）|TypeError|对类型无效操作|\n",
    "|ImportError|导入模块（对象）失败|ValueError|传入无效参数\n",
    "|IndexError|序列没有该索引|"
   ]
  },
  {
   "attachments": {},
   "cell_type": "markdown",
   "metadata": {},
   "source": [
    "对于异常，我们还可以使用`as`获得异常对象，从而进行进一步操作。例如，下面的代码实现了这一点："
   ]
  },
  {
   "cell_type": "code",
   "execution_count": null,
   "metadata": {},
   "outputs": [],
   "source": [
    "lst = [1,2,3]\n",
    "try:\n",
    "    a = lst[4]\n",
    "    print(a)\n",
    "except IndexError as idErr:\n",
    "    print(\"抛出异常\",idErr) # 运行一下，看看inErr究竟是什么……\n",
    "print(\"END\")"
   ]
  },
  {
   "attachments": {},
   "cell_type": "markdown",
   "metadata": {},
   "source": [
    "除了可以使用Python内置异常外，我们也可以自己定义异常。可以使用`assert`或`raise`产生一个异常。我们在这里主要介绍`assert`的使用方法。\n",
    "\n",
    "`assert`的基本结构为：\n",
    "\n",
    "```Python\n",
    "assert 条件, 错误信息\n",
    "```\n",
    "\n",
    "若条件为`True`，则无事发生；若为`False`，则抛出<code><font color=\"red\">AssertionError</font></code>异常。`错误信息`是一个字符串，可用于定义异常的信息。\n",
    "\n",
    "例如，我们可以使用下面的代码创建越界的异常："
   ]
  },
  {
   "cell_type": "code",
   "execution_count": null,
   "metadata": {},
   "outputs": [],
   "source": [
    "lst = [1,2,3]\n",
    "position = int(input()) # 输入一个位置\n",
    "assert -len(lst)<=position<len(lst), \"下标越界\" # 若右面条件满足，则无事发生，否则抛出异常（下标越界）\n",
    "# （那个条件能看懂吗？）\n",
    "print(lst[position])"
   ]
  },
  {
   "attachments": {},
   "cell_type": "markdown",
   "metadata": {},
   "source": [
    "### 5.6 章末练习"
   ]
  },
  {
   "attachments": {},
   "cell_type": "markdown",
   "metadata": {},
   "source": [
    "1. 在自动售货机当中，往往需要根据用户给出的金额，判断是否可以出售商品。为了简化起见，仅考虑售价为10元的商品。请编写一个程序，用户将输入一个整数表示付款金额（元）。若达到出售条件，则输出`Here you are`，并输出找零金额；否则输出`Not Enough`。\n",
    "2. 用户依次输入两个数字，输出较大的那个数字。（注意，请使用`if-else`语句完成该问题！）\n",
    "3. 若用户依次输入三个数字，请输出较大的那个数字。\n",
    "4. 请尝试使用**条件表达式**，解决第2题\n",
    "5. 请将上面使用条件表达式实现的绝对值程序，使用`if-else`语句完成。\n",
    "6. 请将下面的两个程序，改写成使用**条件表达式**：\n",
    "   \n",
    "- \n",
    "```Python\n",
    "x = int(input())\n",
    "if x%2==0:\n",
    "    y = x/2\n",
    "else:\n",
    "    y = 2*x\n",
    "print(y)\n",
    "```\n",
    "- \n",
    "```Python\n",
    "x = int(input())\n",
    "if x>0:\n",
    "    print(x)\n",
    "else:\n",
    "    print(0)\n",
    "\n",
    "```\n",
    "\n",
    "7. 请尝试编写一个程序，用以解决两个数的除法。用户将输入一个表达式（如`12/3`），对于“合法”的表达式，输出其结果；若“不合法”（除数为0），则输出`Error`。请使用两种方式（`if`语句和`try`语句）完成相同的功能。**注意：用户输入的是一个完整的字符串，因此你应当采用正确的方法将其分出两个数字**"
   ]
  },
  {
   "attachments": {},
   "cell_type": "markdown",
   "metadata": {},
   "source": [
    "## 第六章 循环语句"
   ]
  },
  {
   "attachments": {},
   "cell_type": "markdown",
   "metadata": {},
   "source": [
    "### 6.1 `while`循环"
   ]
  },
  {
   "attachments": {},
   "cell_type": "markdown",
   "metadata": {},
   "source": [
    "在程序当中，对于重复执行的部分语句，通常使用**循环语句**，循环的部分称为**循环体**。\n",
    "\n",
    "`while`语句是一种循环语句，根据一个条件，在条件成立时执行循环语句，不成立时结束循环。\n",
    "\n",
    "其基本结构如下所示：\n",
    "\n",
    "```Python\n",
    "while 条件:\n",
    "    循环体\n",
    "其他语句\n",
    "```\n",
    "\n",
    "例如，下面的程序读取了用户的一个正整数，并将其按照倒序输出（输出数字大于0）："
   ]
  },
  {
   "cell_type": "code",
   "execution_count": null,
   "metadata": {},
   "outputs": [],
   "source": [
    "x = int(input())\n",
    "while x>0: # 当x>0时，重复执行循环体\n",
    "    print(x) #循环体使用缩进\n",
    "    x -= 1\n"
   ]
  },
  {
   "attachments": {},
   "cell_type": "markdown",
   "metadata": {},
   "source": [
    "在循环内，我们也可以类似于C语言一样，使用`break`语句跳出循环，执行循环后面的语句；或者使用`continue`跳过本次循环，进入下一次循环过程。\n",
    "\n",
    "例如，下面的程序将读取用户输入的一个正整数，按照倒序输出（大于0），若输出数字本应为7的倍数，则跳过输出并结束循环："
   ]
  },
  {
   "cell_type": "code",
   "execution_count": null,
   "metadata": {},
   "outputs": [],
   "source": [
    "x = int(input())\n",
    "while x>0:\n",
    "    if x%7==0:\n",
    "        break # 如果x为7的倍数，则“跳出循环”\n",
    "    else:\n",
    "        print(x)\n",
    "        x -= 1"
   ]
  },
  {
   "attachments": {},
   "cell_type": "markdown",
   "metadata": {},
   "source": [
    "若将`break`改为`continue`，将得到下面的效果："
   ]
  },
  {
   "cell_type": "code",
   "execution_count": null,
   "metadata": {},
   "outputs": [],
   "source": [
    "x = int(input())\n",
    "while x>0:\n",
    "    if x%7==0:\n",
    "        x -= 1 # 为什么要有这一句？\n",
    "        continue # 请仔细观察continue和break的区别\n",
    "    else:\n",
    "        print(x)\n",
    "        x -= 1"
   ]
  },
  {
   "attachments": {},
   "cell_type": "markdown",
   "metadata": {},
   "source": [
    "## 6.2 带有`else`的`while`循环"
   ]
  },
  {
   "attachments": {},
   "cell_type": "markdown",
   "metadata": {},
   "source": [
    "与`if-else`类似，`while-else`可以处理**循环条件不满足**时的语句。其基本结构如下：\n",
    "\n",
    "```Python\n",
    "while 条件:\n",
    "    循环体\n",
    "else:\n",
    "    语句块\n",
    "其他语句\n",
    "```\n",
    "\n",
    "程序在执行过程中，首先判断`条件`是否满足，若满足，则执行`循环体`，然后再次判断。若不满足，则执行`语句块`。然后执行`其他语句`。\n",
    "\n",
    "下面的代码很好地体现了这一点："
   ]
  },
  {
   "cell_type": "code",
   "execution_count": null,
   "metadata": {},
   "outputs": [],
   "source": [
    "x = int(input()) # 输入一个正整数\n",
    "while x>0:\n",
    "    if x%7==0:\n",
    "        break # 当循环从break结束，则不执行下方else部分\n",
    "    else:\n",
    "        print(x)\n",
    "        x -= 1\n",
    "else: # 若循环“正常结束”（由于while条件不满足而结束），则会执行下方else语句块。\n",
    "    print(\"END\")\n",
    "print(\"其他语句\") # 无论如何，这条语句总是会被执行"
   ]
  },
  {
   "attachments": {},
   "cell_type": "markdown",
   "metadata": {},
   "source": [
    "## 6.3 `for`循环（`for-in`循环）"
   ]
  },
  {
   "attachments": {},
   "cell_type": "markdown",
   "metadata": {},
   "source": [
    "在介绍Python之前，让我们先来回顾一下C语言的`for`循环。在C语言（包括如C++、Java），`for`循环的形式如下：\n",
    "\n",
    "```C\n",
    "#include<stdio.h>\n",
    "int main()\n",
    "{\n",
    "    for(int i=0;i<10;i++>)\n",
    "    {\n",
    "        printf(\"%d\\n\",i)\n",
    "    }\n",
    "    return 0;\n",
    "}\n",
    "```"
   ]
  },
  {
   "attachments": {},
   "cell_type": "markdown",
   "metadata": {},
   "source": [
    "可以看出，`for`循环通常用于**遍历**。对于Python而言，`for`循环可以直接作用于序列当中，从而直接达到遍历的效果。其基本结构如下所示：\n",
    "\n",
    "```Python\n",
    "for i in sequence:\n",
    "    遍历\n",
    "其他语句\n",
    "```\n",
    "\n",
    "其中，`sequence`可以是任何序列型数据类型，如`列表、元组`。\n",
    "\n",
    "`for`语句可以使用英语的方式简单理解为：**对于在`sequence`当中的`i`，执行遍历语句。在循环体（遍历）当中，可以使用变量`i`。\n",
    "\n",
    "例如，下面的语句将序列内的所有偶数进行输出："
   ]
  },
  {
   "cell_type": "code",
   "execution_count": null,
   "metadata": {},
   "outputs": [],
   "source": [
    "for i in [1,2,3,4,5,6,7,8,9,10]: # 对于所有在列表中的i\n",
    "    if i%2==0: # 如果i为偶数\n",
    "        print(i) # 输出i"
   ]
  },
  {
   "attachments": {},
   "cell_type": "markdown",
   "metadata": {},
   "source": [
    "除此之外，我们也可以使用`range()`函数对于数字序列进行快速生成。例如，上面的代码也可以表示为："
   ]
  },
  {
   "cell_type": "code",
   "execution_count": null,
   "metadata": {},
   "outputs": [],
   "source": [
    "for i in range(1,11):\n",
    "    if i%2==0:\n",
    "        print(i)"
   ]
  },
  {
   "attachments": {},
   "cell_type": "markdown",
   "metadata": {},
   "source": [
    "与`while`类似，`for`语句也可以使用`else`语句，其效果与`while-else`类似。这里不再赘述。"
   ]
  },
  {
   "attachments": {},
   "cell_type": "markdown",
   "metadata": {},
   "source": [
    "### 6.4 章末练习\n",
    "\n",
    "1. 编写一个程序，用户输入两个整数，输出这两个数字的最大公约数。提示，可以使用辗转相除法，其算法如下：\n",
    "   1. 计算两个数$a$和$b$的余数$r$；\n",
    "   2. 如果余数$r$不为0，则以$b$和$r$作为新的$a,b$，重复第一步；\n",
    "   3. 否则$b$就是最大公约数\n",
    "2. 程序依次读入一些正整数（输入一个数字后回车，再输入另一个……），最后输入-1表示输入结束，然后程序计算出这些数字中偶数的平均数，输出输入数字中偶数的个数和偶数的平均数。\n",
    "3. 输入一个大于等于2的正整数，判断该数字是否为素数\n",
    "4. 编写一个程序，计算大于2950的37的第一个倍数\n",
    "5. 在聚会中，往往会在餐桌上进行一些游戏。下面是一个经典的游戏：第一个人报一个数字，后面的人依次递增，当报的数字为7的倍数或者数字中带有7，则跳过。请编写一个程序模拟这个过程，用户输入第一个数字，程序输出后面30个数字，其中若遇到跳过的数字则输出`pass`。\n",
    "6. 假设有一群猴子，通过报数选出大王。规则是：数到3则出列，然后重新报数，最后留下的一只猴子成为“大王”。假设现在有5只猴子A,B,C,D,E，则从A开始报数，报至C出局，然后从D开始重新报数，报至A出局，以此类推，直到最后只剩一只。程序将读取一个数字，表示猴子的总数，按照上述规则进行，程序输出最后剩下的是几号猴子？\n",
    "7. 思考：在Python当中，没有C语言当中的`do-while`结构，若要实现这一功能，应当怎样写程序？或者，请考虑以下问题：用户依次输入一些正整数（输入一个数字后回车，然后输入另一个……），直到输入-1为止。输出所有数字（不包括最后-1）的和。请注意：**在你的程序中只能使用一句`input()`，因此你应该将它放在循环内**。想一想，怎样做？"
   ]
  },
  {
   "cell_type": "markdown",
   "metadata": {},
   "source": []
  }
 ],
 "metadata": {
  "kernelspec": {
   "display_name": "Example",
   "language": "python",
   "name": "python3"
  },
  "language_info": {
   "codemirror_mode": {
    "name": "ipython",
    "version": 3
   },
   "file_extension": ".py",
   "mimetype": "text/x-python",
   "name": "python",
   "nbconvert_exporter": "python",
   "pygments_lexer": "ipython3",
   "version": "3.7.12 | packaged by conda-forge | (default, Oct 26 2021, 05:35:01) [MSC v.1916 64 bit (AMD64)]"
  },
  "orig_nbformat": 4,
  "vscode": {
   "interpreter": {
    "hash": "82522e08f6c85207a798961e20bf55349d03ad4be866dc9d19823c643c090d1a"
   }
  }
 },
 "nbformat": 4,
 "nbformat_minor": 2
}
