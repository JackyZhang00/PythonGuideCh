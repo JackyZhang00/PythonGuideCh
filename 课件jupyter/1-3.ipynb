{
 "cells": [
  {
   "cell_type": "markdown",
   "metadata": {},
   "source": [
    "# Python入门教程"
   ]
  },
  {
   "cell_type": "markdown",
   "metadata": {},
   "source": [
    "## 第一章 基本语法"
   ]
  },
  {
   "cell_type": "markdown",
   "metadata": {},
   "source": [
    "### 1.1 标识符与变量"
   ]
  },
  {
   "cell_type": "markdown",
   "metadata": {},
   "source": [
    "> 标识符是指用来标识某个实体的一个符号，在不同的应用环境下有不同的含义。\n",
    "\n",
    "标识符由**字母、下划线和数字**组成，且不能以数字开头"
   ]
  },
  {
   "attachments": {},
   "cell_type": "markdown",
   "metadata": {},
   "source": [
    "一些Python内置的关键字，不允许被用作标识符：\n",
    "\n",
    "|`False`|`def`|`if`|`raise`|\n",
    "|:-:|:-:|:-:|:-:|\n",
    "|`None`|`del`|`import`|`return`|\n",
    "|`True`|`elif`|`in`|`try`|\n",
    "|`and`|`else`|`is`|`while`|\n",
    "|`as`|`except`|`lambda`|`with`|\n",
    "|`assert`|`finally`|`nonlocal`|`yield`|\n",
    "|`break`|`for`|`not`||\n",
    "|`class`|`from`|`or`||\n",
    "|`continue`|`global`|`pass`||"
   ]
  },
  {
   "cell_type": "markdown",
   "metadata": {},
   "source": [
    "> 常量就是不能改变的量；变量就是值可以改变的量，变量名则是程序为了方便引用内存中的值而为它取的名字。"
   ]
  },
  {
   "cell_type": "markdown",
   "metadata": {},
   "source": [
    "例如，3.14159就是常量。Python对于变量名是**大小写敏感**。"
   ]
  },
  {
   "cell_type": "markdown",
   "metadata": {},
   "source": [
    "Python的变量是将名字和对象进行关联。因此，赋值操作只是为数据对象取个名字。在Python当中，可以使用`id()`函数显示对象的地址。该函数是内置函数。"
   ]
  },
  {
   "cell_type": "code",
   "execution_count": null,
   "metadata": {},
   "outputs": [],
   "source": [
    "a=10\n",
    "print(id(a))"
   ]
  },
  {
   "cell_type": "markdown",
   "metadata": {},
   "source": [
    "### 1.2 输入及输出函数"
   ]
  },
  {
   "cell_type": "markdown",
   "metadata": {},
   "source": [
    "输入函数`input()`在Python当中是一个内置函数，可以实现从标准输入（键盘）当中读取一个**字符串**。例如，下面的代码可以实现读取一个字符串并赋值给变量`a`："
   ]
  },
  {
   "cell_type": "code",
   "execution_count": null,
   "metadata": {},
   "outputs": [],
   "source": [
    "a=input()"
   ]
  },
  {
   "cell_type": "markdown",
   "metadata": {},
   "source": [
    "在使用`input()`函数时，你可以传递一个字符串参数用以输出提示信息。例如："
   ]
  },
  {
   "cell_type": "code",
   "execution_count": null,
   "metadata": {},
   "outputs": [],
   "source": [
    "a=input(\"Please Input a String:\")"
   ]
  },
  {
   "cell_type": "markdown",
   "metadata": {},
   "source": [
    "输出函数`print()`也是一个内置函数，其参数是输出值。例如，下面的代码可以实现“回声虫”功能："
   ]
  },
  {
   "cell_type": "code",
   "execution_count": null,
   "metadata": {},
   "outputs": [],
   "source": [
    "a=input(\"Please Input a String:\")\n",
    "print(a)"
   ]
  },
  {
   "cell_type": "markdown",
   "metadata": {},
   "source": [
    "使用`print()`函数时，可以提供多个参数字符串（中间用逗号间隔），表示将多个字符串连接输出(**默认用空格分隔**)："
   ]
  },
  {
   "cell_type": "code",
   "execution_count": null,
   "metadata": {},
   "outputs": [],
   "source": [
    "print(\"hello\",\"world!\")"
   ]
  },
  {
   "cell_type": "markdown",
   "metadata": {},
   "source": [
    "### 1.3 章末练习"
   ]
  },
  {
   "cell_type": "markdown",
   "metadata": {},
   "source": [
    "1. 改进前面的“回声虫”小程序，实现以下功能：用户输入一个字符串，程序将该用户的输入内容重复输出三遍。"
   ]
  },
  {
   "cell_type": "markdown",
   "metadata": {},
   "source": [
    "## 第二章 Python的基本数据类型"
   ]
  },
  {
   "cell_type": "markdown",
   "metadata": {},
   "source": [
    "### 2.1 数字"
   ]
  },
  {
   "cell_type": "markdown",
   "metadata": {},
   "source": [
    "数字类型分为以下几类：\n",
    "- 整数\n",
    "- 浮点数\n",
    "- 复数"
   ]
  },
  {
   "cell_type": "markdown",
   "metadata": {},
   "source": [
    "其中，整数（int）与数学中整数的概念一致，可正可负，默认情况下是十进制，如需采用其他进制可以添加相应的符号，如：\n",
    "- 二进制（0b或0B）\n",
    "- 八进制（0o或0O）\n",
    "- 十六进制（0x或0X）"
   ]
  },
  {
   "cell_type": "markdown",
   "metadata": {},
   "source": [
    "浮点数（float）与数学中实数的概念一致，其取值范围与精度有限制。表示方法可以使用下面两种方法：\n",
    "1. 小数，如1.23，3.14，-9.01等\n",
    "2. 科学计数法，如1.23e9，1.2e-5等"
   ]
  },
  {
   "cell_type": "markdown",
   "metadata": {},
   "source": [
    "复数（complex）与数学中复数概念一致，由实部和虚部组成，其虚部用`j`表示，例如：`2+3j`.\n",
    "\n",
    "对于复数：\n",
    "- 可以使用`real`取得实部\n",
    "- 可以使用`imag`取得虚部\n",
    "- 可以使用`complex()`函数创建复数，其传递两个参数，分别是实部和虚部\n",
    "\n",
    "例如，下面的代码演示了这些内容："
   ]
  },
  {
   "cell_type": "code",
   "execution_count": null,
   "metadata": {},
   "outputs": [],
   "source": [
    "number = 2+3j\n",
    "print(\"实部\",number.real)\n",
    "print(\"虚部\",number.imag)\n",
    "number2 = complex(1,4)\n",
    "print(number2)"
   ]
  },
  {
   "cell_type": "markdown",
   "metadata": {},
   "source": [
    "关于数字，下面的代码演示了**算术运算符**的使用："
   ]
  },
  {
   "cell_type": "code",
   "execution_count": null,
   "metadata": {},
   "outputs": [],
   "source": [
    "print(\"加法\",5+10)\n",
    "print(\"减法\",100-5)\n",
    "print(\"乘法\",8*9)\n",
    "print(\"浮点数除法\",10/3)\n",
    "print(\"整数除法\",10//3)\n",
    "print(\"取余\",9%4)\n",
    "print(\"求幂\",2**3)"
   ]
  },
  {
   "cell_type": "markdown",
   "metadata": {},
   "source": [
    "除此之外，也可以使用`math`库以实现更复杂的功能。要想使用`math`库，请在程序开始使用下面的代码：\n",
    "```Python\n",
    "import math\n",
    "```"
   ]
  },
  {
   "cell_type": "markdown",
   "metadata": {},
   "source": [
    "下面演示了一些基本的`math`库当中的函数或常量。注意，在使用这些函数或常量时，请在前面添加`math.`："
   ]
  },
  {
   "cell_type": "code",
   "execution_count": null,
   "metadata": {},
   "outputs": [],
   "source": [
    "import math #导入\n",
    "\n",
    "print(math.e) #自然常数\n",
    "print(math.pi) #圆周率\n",
    "print(math.log(8,2)) #对数\n",
    "print(math.pow(2,3)) #幂\n",
    "print(math.sqrt(25)) #平方根\n",
    "print(math.fabs(-5)) #绝对值"
   ]
  },
  {
   "cell_type": "markdown",
   "metadata": {},
   "source": [
    "### 2.2 字符串"
   ]
  },
  {
   "cell_type": "markdown",
   "metadata": {},
   "source": [
    "> 字符串是以引号括起来的任意文本。\n",
    "\n",
    "是一个有序序列，可以具有如下的表示形式：\n",
    "- 单引号 `'abc'`\n",
    "- 双引号 `\"hello\"`\n",
    "- 三引号 \n",
    "```Python\n",
    "''' hello\n",
    " world'''\n",
    "```"
   ]
  },
  {
   "attachments": {},
   "cell_type": "markdown",
   "metadata": {},
   "source": [
    "除此之外，还有部分字符可能是实现特别功能的，其实际效果并非如原始字符所示，称为**转义字符**。Python当中常见的转义字符如下所示：\n",
    "\n",
    "|符号|含义|符号|含义|\n",
    "|:-:|:-:|:-:|:-:|\n",
    "|`\\\\`|反斜杠|`\\v`|纵向制表符|\n",
    "|`\\'`|单引号|`\\t`|横向制表符|\n",
    "|`\\\"`|双引号|`\\r`|回车|\n",
    "|`\\a`|响铃|`\\f`|换页|\n",
    "|`\\b`|退格（Backspace）|`\\ooo`|最多三位八进制，例如：`\\12`代表换行|\n",
    "|`\\n`|换行|`\\xyy`|十六进制，`yy`代表的字符，例如：`\\x0a`代表换行|\n"
   ]
  },
  {
   "cell_type": "markdown",
   "metadata": {},
   "source": [
    "字符串也可以使用部分运算符。主要是以下两种：\n",
    "- `+` 连接字符串\n",
    "- `*` 复制字符串\n",
    "\n",
    "具体效果如下代码所示："
   ]
  },
  {
   "cell_type": "code",
   "execution_count": null,
   "metadata": {},
   "outputs": [],
   "source": [
    "print('hello'+'world')\n",
    "print('ab'*3)"
   ]
  },
  {
   "attachments": {},
   "cell_type": "markdown",
   "metadata": {},
   "source": [
    "对于字符串而言，其实质是一个**有序序列**。这个序列可以正向递增，也可以反向递减。注意：**正向从0开始，反向从-1开始**"
   ]
  },
  {
   "attachments": {
    "image.png": {
     "image/png": "[encoded data removed]"
    }
   },
   "cell_type": "markdown",
   "metadata": {},
   "source": [
    "![image.png](attachment:image.png)"
   ]
  },
  {
   "cell_type": "markdown",
   "metadata": {},
   "source": [
    "对于字符串，可以使用`[]`里面的数字获得某一个字符。例如："
   ]
  },
  {
   "cell_type": "code",
   "execution_count": null,
   "metadata": {},
   "outputs": [],
   "source": [
    "string = 'abcdefgh'\n",
    "print(string[-2])"
   ]
  },
  {
   "cell_type": "markdown",
   "metadata": {},
   "source": [
    "也可以在方括号当中添加区间（用冒号分隔）表示一个区间（切片）："
   ]
  },
  {
   "cell_type": "code",
   "execution_count": null,
   "metadata": {},
   "outputs": [],
   "source": [
    "string = 'abcdefgh'\n",
    "print(string[2:5]) "
   ]
  },
  {
   "cell_type": "markdown",
   "metadata": {},
   "source": [
    "### 2.3 布尔值"
   ]
  },
  {
   "cell_type": "markdown",
   "metadata": {},
   "source": [
    "布尔值：`True` `False`"
   ]
  },
  {
   "cell_type": "markdown",
   "metadata": {},
   "source": [
    "逻辑运算和关系运算的结果是布尔值。例如，下面演示了关系运算符的结果："
   ]
  },
  {
   "cell_type": "code",
   "execution_count": null,
   "metadata": {},
   "outputs": [],
   "source": [
    "print(2==3) #等于\n",
    "print(2!=3) #不等于\n",
    "print(2>3) #大于\n",
    "print(2>=3) #大于等于\n",
    "print(2<3) #小于\n",
    "print(2<=3) #小于等于"
   ]
  },
  {
   "cell_type": "markdown",
   "metadata": {},
   "source": [
    "下面是一些逻辑运算符示例。注意：**逻辑运算符存在“短路”现象**"
   ]
  },
  {
   "cell_type": "code",
   "execution_count": null,
   "metadata": {},
   "outputs": [],
   "source": [
    "print(True and False) #与and\n",
    "print(True or False) #或or\n",
    "print(not True) #非not"
   ]
  },
  {
   "cell_type": "markdown",
   "metadata": {},
   "source": [
    "注意：**逻辑运算符的前后一定要添加空格！**"
   ]
  },
  {
   "attachments": {},
   "cell_type": "markdown",
   "metadata": {},
   "source": [
    "你可以使用下面的函数将某种类型转换成另一种类型：\n",
    "|函数名|含义|\n",
    "|:-:|:-:|\n",
    "|`bool()`|创建新的布尔值|\n",
    "|`int()`|创建新的整数|\n",
    "|`float()`|创建新的浮点数|\n",
    "|`complex()`|创建新的复数|\n",
    "|`str()`|创建一个字符串|\n",
    "|`ord()`|返回Unicode字符对应整数|\n",
    "|`chr()`|返回整数对应Unicode字符|\n",
    "|`bin()`|将整数转换成二进制字符串|\n",
    "|`oct()`|将整数转换成八进制字符串|\n",
    "|`hex()`|将整数转换成十六进制字符串|\n",
    "|`list()`|创建新的列表|"
   ]
  },
  {
   "cell_type": "code",
   "execution_count": null,
   "metadata": {},
   "outputs": [],
   "source": [
    "bool(0) #非零-->True，零-->False\n",
    "a = str(123*3)\n",
    "print(a*3)"
   ]
  },
  {
   "cell_type": "markdown",
   "metadata": {},
   "source": [
    "下面的代码演示了一些示例："
   ]
  },
  {
   "cell_type": "code",
   "execution_count": null,
   "metadata": {},
   "outputs": [],
   "source": [
    "print(int(\"123\"))\n",
    "print(str(123))"
   ]
  },
  {
   "cell_type": "markdown",
   "metadata": {},
   "source": [
    "特别地，对于`int()`函数，可以再传入第二个参数表示数据的进制。例如，下面的代码表示字符串35是八进制，需要将其转换为十进制："
   ]
  },
  {
   "cell_type": "code",
   "execution_count": null,
   "metadata": {},
   "outputs": [],
   "source": [
    "int(\"35\",8)"
   ]
  },
  {
   "cell_type": "markdown",
   "metadata": {},
   "source": [
    "注意：`int()`函数的第二个参数表示传入数据的进制，并不是表示转换成的进制。如果你希望转换成八进制，请使用`oct()`函数："
   ]
  },
  {
   "cell_type": "code",
   "execution_count": null,
   "metadata": {},
   "outputs": [],
   "source": [
    "oct(29)"
   ]
  },
  {
   "cell_type": "markdown",
   "metadata": {},
   "source": [
    "### 2.4 章末练习"
   ]
  },
  {
   "cell_type": "markdown",
   "metadata": {},
   "source": [
    "1. 请编写一个程序，用户输入一个整数，输出这个数字的三倍。例如，用户输入3，程序输出9.\n",
    "2. 已知华氏度$F$和摄氏度$C$之间满足如下关系：$$F=32+C\\times 1.8$$请试着编写一个程序，用户输入摄氏度，程序输出华氏度，并在最后输出华氏度标识“F”。例如，用户输入0，程序输出32F（F前面没有空格）\n",
    "3. 在地理上，经常需要使用经纬度。度数的单位有度、分、秒，其三者之间为60进制关系，即1度=60分，1分=60秒。有时人们采用度的小数形式描述，如北纬23.5度；有时则采用度分秒的形式，如北纬23度26分。请编写一个程序，用于将小数形式的经纬度变换成度分秒形式的经纬度。为简化问题，你不需考虑东西南北，用户仅仅会输入一个小数，程序则输出为DD度MM分SS秒的形式。如，用户输入23.5，程序应当输出为23度30分0秒。我们并不考虑小数的“秒”，因此如果产生了小数的“秒”，请将其四舍五入。\n",
    "4. 请编写一个程序，用户输入一个小写字母，输出转换后的大写字母。提示：使用`chr()`函数和`ord()`函数。\n",
    "5. 在举重比赛当中总共有三名裁判，其中有一名裁判长和两名裁判员。仅有当裁判长和至少一名裁判员“通过”时，该运动员判为“通过”。下面，请你编写一个程序，用以模拟这个场景。你的程序将会依次读取3个整数，分别是裁判长和两名裁判员的结果，使用0表示失败，使用1表示成功。你的程序应当进行一系列布尔运算，并得到最终的结果——True表示“通过”、False表示“不通过”。提示：`bool()`函数用以将非零整数转换为`True`，将零转换为`False`。\n",
    "6. 请设计程序以进行实验：\n",
    "   1. 在C语言当中，`4>3>2`的结果是“False”，请试一下在Python当中的结果。你能得到什么结论？\n",
    "   2. 在进行比较时，对数字进行比较是很常见的。对于字符串的比较呢？请编写一个程序来测试一下，并得到了什么结论？\n",
    "   3. 请编写一个程序，验证Python中进行逻辑运算时所具有的“短路”现象。\n",
    "   4. 在做字符串切片时，如果省略一个参数会发生什么现象？注意：在省略时请务必保留冒号`:`"
   ]
  },
  {
   "cell_type": "markdown",
   "metadata": {},
   "source": [
    "## 第三章 Python基本语句"
   ]
  },
  {
   "cell_type": "markdown",
   "metadata": {},
   "source": [
    "### 3.1 赋值语句"
   ]
  },
  {
   "cell_type": "markdown",
   "metadata": {},
   "source": [
    "赋值语句的基本形式是`变量=值`。例如，下面的代码就是将x和y分别赋值为1和2，并将x+y的结果赋值给k并输出k："
   ]
  },
  {
   "cell_type": "code",
   "execution_count": null,
   "metadata": {},
   "outputs": [],
   "source": [
    "x=1\n",
    "y=2\n",
    "k=x+y\n",
    "print(k)"
   ]
  },
  {
   "cell_type": "markdown",
   "metadata": {},
   "source": [
    "与其他大多数编程语言不同的是，Python支持序列赋值："
   ]
  },
  {
   "cell_type": "code",
   "execution_count": null,
   "metadata": {},
   "outputs": [],
   "source": [
    "x,y=4,8 #x=4 y=8\n",
    "print(x)\n",
    "print(y)"
   ]
  },
  {
   "cell_type": "code",
   "execution_count": null,
   "metadata": {},
   "outputs": [],
   "source": [
    "a,b=\"34\"\n",
    "print(a)\n",
    "print(b)"
   ]
  },
  {
   "cell_type": "markdown",
   "metadata": {},
   "source": [
    "利用这种特性，你可以使用语句`a,b=b,a`交换a和b的值。但是，你应当注意到：这种序列赋值应当保证左右的数量相同。\n",
    "\n",
    "事实上，左右数量可以不相等，但这是我们后面的内容"
   ]
  },
  {
   "cell_type": "markdown",
   "metadata": {},
   "source": [
    "同样，赋值可以使用“连续赋值”如下所示："
   ]
  },
  {
   "cell_type": "code",
   "execution_count": null,
   "metadata": {},
   "outputs": [],
   "source": [
    "a=b=c=5\n",
    "print(a,b,c)"
   ]
  },
  {
   "cell_type": "markdown",
   "metadata": {},
   "source": [
    "类似于C语言，你也可以将赋值运算符和算术运算符进行结合，如`+=`,`-=`,`*=`等"
   ]
  },
  {
   "cell_type": "code",
   "execution_count": null,
   "metadata": {},
   "outputs": [],
   "source": [
    "a = 1\n",
    "a += 2 #a = a + 2\n",
    "print(a)"
   ]
  },
  {
   "attachments": {},
   "cell_type": "markdown",
   "metadata": {},
   "source": [
    "### 3.2 分支语句（`if`）"
   ]
  },
  {
   "cell_type": "markdown",
   "metadata": {},
   "source": [
    "`if`语句的基本形式如下：\n",
    "\n",
    "```\n",
    "if 逻辑表达式:\n",
    "    语句块1\n",
    "else:\n",
    "    语句块2\n",
    "```"
   ]
  },
  {
   "attachments": {},
   "cell_type": "markdown",
   "metadata": {},
   "source": [
    "与其他语言相比，Python使用“**缩进**”表示程序结构关系。Python正是使用这种强制的规则保证程序可读性的。"
   ]
  },
  {
   "cell_type": "markdown",
   "metadata": {},
   "source": [
    "下面的代码是用来判断奇偶数的："
   ]
  },
  {
   "cell_type": "code",
   "execution_count": null,
   "metadata": {},
   "outputs": [],
   "source": [
    "x = int(input()) #读取一个整数\n",
    "if x%2==0: #如果能被2整除\n",
    "    print(\"偶数\") #输出偶数\n",
    "else: #否则\n",
    "    print(\"奇数\") #输出奇数"
   ]
  },
  {
   "attachments": {},
   "cell_type": "markdown",
   "metadata": {},
   "source": [
    "### 3.3 循环语句（`for`）"
   ]
  },
  {
   "cell_type": "markdown",
   "metadata": {},
   "source": [
    "`for`语句的基本结构：\n",
    "\n",
    "```\n",
    "for variable in 列表:\n",
    "    语句块\n",
    "```\n",
    "\n",
    "例如，下面的方法用于遍历列表："
   ]
  },
  {
   "cell_type": "code",
   "execution_count": null,
   "metadata": {},
   "outputs": [],
   "source": [
    "for i in [1,2,3,4]: #对于在[1,2,3,4]当中的i：\n",
    "    print(i)"
   ]
  },
  {
   "attachments": {},
   "cell_type": "markdown",
   "metadata": {},
   "source": [
    "这里面的`[1,2,3,4]`在Python当中称为**列表**，其具体用法将在后面进行详细介绍。这里介绍一种快速生成一个数字列表的方法：`range()`函数，其基本语法如下：`range(start,stop,step)`。\n",
    "\n",
    "其中，`start`是计数开始，默认从0开始。\n",
    "\n",
    "`stop`表示计数到stop为止，**但不包括该数**。例如，`range(0,5)`将会生成`[0,1,2,3,4]`\n",
    "\n",
    "`step`表示步长，默认为1.可以为负值。\n",
    "\n",
    "下面的代码演示了这一点："
   ]
  },
  {
   "cell_type": "code",
   "execution_count": null,
   "metadata": {},
   "outputs": [],
   "source": [
    "print(list(range(10))) #range(0,10,1) [0,1,2,3,4,5,6,7,8,9]\n",
    "print(list(range(1,11))) #range(1,11,1) [1,2,3,4,5,6,7,8,9,10]\n",
    "print(list(range(0,20,4))) #[0,4,8,12,16]\n",
    "print(list(range(0,-10,-1))) #[0,-1,-2,-3,-4,-5,-6,-7,-8,-9]"
   ]
  },
  {
   "cell_type": "markdown",
   "metadata": {},
   "source": [
    "使用列表及其一些内置函数，我们可以编写一些小程序。例如，下面的程序将读取用户输入的数字$n$，输出$$1+2+\\cdots+n$$"
   ]
  },
  {
   "cell_type": "code",
   "execution_count": null,
   "metadata": {},
   "outputs": [],
   "source": [
    "n = int(input()) # 输入整数n\n",
    "s = sum(range(n+1)) #列表[0,1,2,3,4,...,n],sum()函数求和\n",
    "print(s)"
   ]
  },
  {
   "cell_type": "markdown",
   "metadata": {},
   "source": [
    "### 3.4 列表与列表推导式"
   ]
  },
  {
   "attachments": {},
   "cell_type": "markdown",
   "metadata": {},
   "source": [
    "列表是Python最常用的数据类型之一：\n",
    "- 由零个或多个元素组成，元素之间用逗号分开，整个列表被方括号包裹；\n",
    "- 元素类型可以相同也可以不同（不同于numpy）；\n",
    "- 通过序号可以引用列表中的元素。\n",
    "\n",
    "列表是**有序**的。"
   ]
  },
  {
   "attachments": {},
   "cell_type": "markdown",
   "metadata": {},
   "source": [
    "列表与字符串类似，可以进行加法、乘法、比较、索引、切片等操作："
   ]
  },
  {
   "cell_type": "code",
   "execution_count": null,
   "metadata": {},
   "outputs": [],
   "source": [
    "print([1,2,3]+['a','b','c'])\n",
    "print([1]*10)\n",
    "print([1,2,3]>[2,1,4]) "
   ]
  },
  {
   "cell_type": "code",
   "execution_count": null,
   "metadata": {},
   "outputs": [],
   "source": [
    "weekdays = ['Monday','Tuesday','Wednesday','Thursday','Friday']\n",
    "print(weekdays[2])"
   ]
  },
  {
   "cell_type": "markdown",
   "metadata": {},
   "source": [
    "列表推导式（列表解析式）提供了一种简明扼要的方法创建列表。它可以将循环和条件判断结合，从而避免语法冗长的代码，提高程序性能。\n",
    "\n",
    "其基本格式为：`[expression for item in iterable]`"
   ]
  },
  {
   "cell_type": "code",
   "execution_count": null,
   "metadata": {},
   "outputs": [],
   "source": [
    "n1=[2*number for number in [1,2,3,4,5]] #[对于在[1,2,3,4,5]当中的number，2*number]\n",
    "print(n1)"
   ]
  },
  {
   "attachments": {},
   "cell_type": "markdown",
   "metadata": {},
   "source": [
    "也可以使用带条件的列表推导式，其格式为：`[expression for item in iterable if condition]`"
   ]
  },
  {
   "cell_type": "code",
   "execution_count": null,
   "metadata": {},
   "outputs": [],
   "source": [
    "n1 = [2*number for number in range(1,8) if number%2==1] #[如果number%2==1，对于在[1,2,3,4,5,6,7]当中的number，number]\n",
    "print(n1)"
   ]
  },
  {
   "cell_type": "markdown",
   "metadata": {},
   "source": [
    "### 3.5 格式化输出"
   ]
  },
  {
   "cell_type": "markdown",
   "metadata": {},
   "source": [
    "在有些时候，我们可能希望得到特定形式的输出格式，如**保留一位小数**等。在Python当中，我们可以使用字符串的*对象函数*`format()`函数"
   ]
  },
  {
   "attachments": {},
   "cell_type": "markdown",
   "metadata": {},
   "source": [
    "关于对象函数，将在进行对象编程时进行详细说明。\n",
    "\n",
    "Python面向对象的语言 class"
   ]
  },
  {
   "attachments": {},
   "cell_type": "markdown",
   "metadata": {},
   "source": [
    "使用`format()`函数的基本格式为：`str.format()`。其中str需要使用“占位符”。例如，下面的代码将输出圆周率和半径为3的圆的周长："
   ]
  },
  {
   "cell_type": "code",
   "execution_count": null,
   "metadata": {},
   "outputs": [],
   "source": [
    "x = 3.14159\n",
    "y = 2*x*3\n",
    "print(\"{0:.2f} {1:.2f}\".format(x,y)) #3.14159 18.85"
   ]
  },
  {
   "cell_type": "markdown",
   "metadata": {},
   "source": [
    "其中，`0`和`1`表示`format()`函数当中的第一个和第二个参数；\n",
    "\n",
    "`.2f`表示小数部分保留两位，四舍五入。"
   ]
  },
  {
   "cell_type": "markdown",
   "metadata": {},
   "source": [
    "### 3.6 章末练习"
   ]
  },
  {
   "cell_type": "markdown",
   "metadata": {},
   "source": [
    "1. 为鼓励居民节约用水，自来水公司采取按用水量阶梯式计价的办法，居民应交水费y（元）与月用水量x（吨）相关：当x不超过15吨时，满足：$$y=\\frac{4x}{3}$$；超过后，有$$y=2.5x-17.5$$。请编写一个程序，用户输入月用水量，输出应交水费。其小数部分保留2位。\n",
    "2. 输入一个整数n(n>=5)，求n的阶乘。\n",
    "3. 计算下列表达式的和：$$1+\\frac{1}{2}+\\cdots+\\frac{1}{20}$$\n",
    "4. 计算下列表达式的前$n(n>=10)$项和：$$1-\\frac{1}{2}+\\frac{1}{3}-\\frac{1}{4}+\\cdots$$\n",
    "5. 计算下列表达式的和：$$1-\\frac{1}{3}+\\frac{1}{5}-\\frac{1}{7}+\\cdots-\\frac{1}{47}+\\frac{1}{49}$$\n",
    "6. 计算下列表达式的前$n$项和：$$6+66+666+\\cdots+666\\dots 666$$\n",
    "7. 改进第3、4、5、6题，使其小数点保留3位小数。"
   ]
  }
 ],
 "metadata": {
  "kernelspec": {
   "display_name": "base",
   "language": "python",
   "name": "python3"
  },
  "language_info": {
   "codemirror_mode": {
    "name": "ipython",
    "version": 3
   },
   "file_extension": ".py",
   "mimetype": "text/x-python",
   "name": "python",
   "nbconvert_exporter": "python",
   "pygments_lexer": "ipython3",
   "version": "3.9.12 (main, Apr  4 2022, 05:22:27) [MSC v.1916 64 bit (AMD64)]"
  },
  "vscode": {
   "interpreter": {
    "hash": "227122ec4afb26ccaa04dbd27b6cf80e927d414f7120f06ae327048081bf4160"
   }
  }
 },
 "nbformat": 4,
 "nbformat_minor": 4
}
