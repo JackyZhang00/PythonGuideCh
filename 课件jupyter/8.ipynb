{
 "cells": [
  {
   "attachments": {},
   "cell_type": "markdown",
   "metadata": {},
   "source": [
    "# Python入门教程"
   ]
  },
  {
   "attachments": {},
   "cell_type": "markdown",
   "metadata": {},
   "source": [
    "## 第八章 函数"
   ]
  },
  {
   "attachments": {},
   "cell_type": "markdown",
   "metadata": {},
   "source": [
    "### 8.1 函数简介"
   ]
  },
  {
   "attachments": {},
   "cell_type": "markdown",
   "metadata": {},
   "source": [
    "> 函数是重用的程序段。允许你给一段语句命名一个名字，称为**函数定义**。\n",
    "> 你可以在程序的任何地方使用这个名称运行这一段语句块，称为**函数调用**。\n",
    "\n",
    "定义函数的基本结构如下所示：\n",
    "```Python\n",
    "def 函数名(参数,参数,...):\n",
    "    语句块（函数体）\n",
    "其他语句\n",
    "```\n",
    "\n",
    "在语句块当中，可以使用`return`语句将函数运行的结果返回至调用函数的地方。下面的代码是函数定义和调用的一个例子，用以计算斐波那契数列的前$n$项："
   ]
  },
  {
   "cell_type": "code",
   "execution_count": null,
   "metadata": {},
   "outputs": [],
   "source": [
    "#1 1 2 3 5 8 13 21\n",
    "\n",
    "# 函数定义\n",
    "def fibs(n): # n：形参（形式参数）——“参数”\n",
    "    result = [1,1] # [1,1]\n",
    "    for i in range(n-2):\n",
    "        result.append(result[-2]+result[-1])\n",
    "    return result\n",
    "\n",
    "# 函数调用\n",
    "print(fibs(50)) # 50：实参（实际参数）——“值”"
   ]
  },
  {
   "attachments": {},
   "cell_type": "markdown",
   "metadata": {},
   "source": [
    "**注意，函数应当先定义再调用。因此，下面的代码是错误的：**"
   ]
  },
  {
   "cell_type": "code",
   "execution_count": null,
   "metadata": {},
   "outputs": [],
   "source": [
    "print(fibs2(5))\n",
    "\n",
    "def fibs2(n):\n",
    "    result = [1,1]\n",
    "    for i in range(n-2):\n",
    "        result.append(result[-2]+result[-1])\n",
    "    return result"
   ]
  },
  {
   "attachments": {},
   "cell_type": "markdown",
   "metadata": {},
   "source": [
    "或者还可以使用Python的另一种函数定义方法：`lambda`表达式，通常，`lambda`表达式的基本结构为：\n",
    "\n",
    "```Python\n",
    "函数名 = lambda 参数,参数,...: 表达式\n",
    "```\n",
    "\n",
    "其中，`函数名`是可选的。若没有，则该函数称为**匿名函数**。对于匿名函数而言，只能在定义时调用。\n",
    "\n",
    "下面的例子定义了一个求和函数："
   ]
  },
  {
   "cell_type": "code",
   "execution_count": null,
   "metadata": {},
   "outputs": [],
   "source": [
    "s = lambda x,y:x+y # s函数名\n",
    "print(s(2,3))"
   ]
  },
  {
   "attachments": {},
   "cell_type": "markdown",
   "metadata": {},
   "source": [
    "关于函数参数和返回值的细节问题，将在下面进行详细的介绍。"
   ]
  },
  {
   "attachments": {},
   "cell_type": "markdown",
   "metadata": {},
   "source": [
    "### 8.2 函数参数"
   ]
  },
  {
   "attachments": {},
   "cell_type": "markdown",
   "metadata": {},
   "source": [
    "在函数定义时，写在小括号内的变量称为**参数**（更确切地说，叫做**形参**），这些参数用逗号`,`进行分割，在函数体内部可以如同变量一般使用它们。\n",
    "\n",
    "在函数调用时，我们会在调用时传递这些参数（严格来说，调用时的参数称为**实参**），函数在计算时，形参的值就是在调用时传入的实参。\n",
    "\n",
    "Python语言的参数形式相比于其他语言显得更为灵活，下面几种均属于Python的参数。"
   ]
  },
  {
   "attachments": {},
   "cell_type": "markdown",
   "metadata": {},
   "source": [
    "#### 8.2.1 位置参数"
   ]
  },
  {
   "attachments": {},
   "cell_type": "markdown",
   "metadata": {},
   "source": [
    "最常见的参数类型就是位置参数，其传入参数的值是按照顺序依次传入。例如，下面的代码定义了长方体的体积计算函数，并通过传递三个参数（长宽高）计算："
   ]
  },
  {
   "cell_type": "code",
   "execution_count": null,
   "metadata": {},
   "outputs": [],
   "source": [
    "def volume(a,b,c):\n",
    "    print(\"a={},b={},c={}\".format(a,b,c)) # 参数的值\n",
    "    return a*b*c #返回值\n",
    "# 调用\n",
    "print(volume(2,3,4))"
   ]
  },
  {
   "attachments": {},
   "cell_type": "markdown",
   "metadata": {},
   "source": [
    "在上述代码中，程序调用`volume`函数，并将三个值（`2,3,4`）按照位置传递给参数表中的`a,b,c`。"
   ]
  },
  {
   "attachments": {},
   "cell_type": "markdown",
   "metadata": {},
   "source": [
    "#### 8.2.2 关键字参数"
   ]
  },
  {
   "attachments": {},
   "cell_type": "markdown",
   "metadata": {},
   "source": [
    "调用参数时，除了可以使用位置参数外，还可以在调用时指定形式参数的名字，从而可以采用与定义函数时不同的顺序。称为**关键字参数**。\n",
    "\n",
    "例如，上面的函数我们还可以这样调用："
   ]
  },
  {
   "cell_type": "code",
   "execution_count": null,
   "metadata": {},
   "outputs": [],
   "source": [
    "def volume(a,b,c):\n",
    "    print(\"a={},b={},c={}\".format(a,b,c))\n",
    "    return a*b*c\n",
    "\n",
    "# 函数调用（参数的名字）\n",
    "print(volume(a=2,c=3,b=4))"
   ]
  },
  {
   "attachments": {},
   "cell_type": "markdown",
   "metadata": {},
   "source": [
    "**注意：若要同时使用位置参数和关键字参数，应当首先使用位置参数，然后使用关键字参数！**\n",
    "\n",
    "下面的代码将会得到错误："
   ]
  },
  {
   "cell_type": "code",
   "execution_count": null,
   "metadata": {},
   "outputs": [],
   "source": [
    "def volume(a,b,c):\n",
    "    print(\"a={},b={},c={}\".format(a,b,c))\n",
    "    return a*b*c\n",
    "\n",
    "print(volume(2,c=4,3))"
   ]
  },
  {
   "attachments": {},
   "cell_type": "markdown",
   "metadata": {},
   "source": [
    "#### 8.2.3 默认值参数"
   ]
  },
  {
   "attachments": {},
   "cell_type": "markdown",
   "metadata": {},
   "source": [
    "在函数定义时，你可以指定形参的默认值，称为**默认值参数**。在调用函数时，若没有给定参数，则使用默认值；若在调用时提供实参，则在调用时会代替默认值："
   ]
  },
  {
   "cell_type": "code",
   "execution_count": null,
   "metadata": {},
   "outputs": [],
   "source": [
    "def volume(a,b,c=1):\n",
    "    print(\"a={},b={},c={}\".format(a,b,c))\n",
    "    return a*b*c\n",
    "print(volume(a=2,b=4,c=2))"
   ]
  },
  {
   "attachments": {},
   "cell_type": "markdown",
   "metadata": {},
   "source": [
    "#### 8.2.4 数量可变参数"
   ]
  },
  {
   "attachments": {},
   "cell_type": "markdown",
   "metadata": {},
   "source": [
    "在函数定义时，若参数的数目不确定，则可以使用星号(`*`)将未确定数量的参数以元组的形式进行传递，例如，下面的代码定义了2个参数，其中第2个参数是**数量可变参数**。因此，在调用该函数时，可以传递多于两个参数。此时数量可变参数将以元组的类型参与函数内的计算："
   ]
  },
  {
   "cell_type": "code",
   "execution_count": null,
   "metadata": {},
   "outputs": [],
   "source": [
    "def countnum(a,*b): # b:数量可变参数（元组）\n",
    "    print(b)\n",
    "    print(len(b)+1)\n",
    "\n",
    "countnum(3,5) #b=(5,)\n",
    "countnum(3,5,7) #b=(5,7)\n",
    "countnum(3,5,7,9) #b=(5,7,9)"
   ]
  },
  {
   "attachments": {},
   "cell_type": "markdown",
   "metadata": {},
   "source": [
    "在定义函数时，也可以将参数前面添加两个星号(`**`)表示将参数添加到字典中。效果如下所示："
   ]
  },
  {
   "cell_type": "code",
   "execution_count": null,
   "metadata": {},
   "outputs": [],
   "source": [
    "def countnum(a,**d):\n",
    "    print(d)\n",
    "    print(len(d)+1)\n",
    "countnum(3,x1=2,x2=4,x3=6,x4=8) #a=3,d={'x1':2,'x2':4,'x3':6,'x4':8}"
   ]
  },
  {
   "attachments": {},
   "cell_type": "markdown",
   "metadata": {},
   "source": [
    "对于函数参数的一个深入应用，则是在我们已经熟悉的`print()`函数中。在之前，我们仅仅使用`print()`函数作为多个参数的输出，其中间使用空格作为分割，且每一个函数结束用回车表示。事实上，该函数的完整形式如下：\n",
    "```Python\n",
    "print(*object,sep=\" \",end=\"\\n\",file=sys.stdout)\n",
    "```\n",
    "\n",
    "其中`*object`是输出参数，其数量可变。在之前的应用中，我们已经了解了。除此之外，该函数还有几个默认值参数。例如，`sep`参数表示分隔符；`end`参数表示输出函数结束后的字符；`file`参数表示输出位置（默认为屏幕标准输出）。因此，在输出时，你可以通过`print()`函数的参数设置实现更复杂的效果。例如，若已经给定年月日，希望用短横线`-`进行分割，可以使用下面的代码："
   ]
  },
  {
   "cell_type": "code",
   "execution_count": null,
   "metadata": {},
   "outputs": [],
   "source": [
    "year,month,day = (2023,1,10)\n",
    "print(year,month,day,sep='-',end=',')\n",
    "print(year,month,day,sep='-')"
   ]
  },
  {
   "attachments": {},
   "cell_type": "markdown",
   "metadata": {},
   "source": [
    "在传递参数时，也可以在调用时在前面加上星号(`*`)，此时表示**拆包**，表示将序列拆成一个个单独的实参。例如，若定义变量`l=[1,2,3,4]`，则使用`print(l)`将得到`[1,2,3,4]`；而使用`print(*l)`将得到`1 2 3 4`。这是因为前者实际上为`print([1,2,3,4])`，而后者为`print(1,2,3,4)`："
   ]
  },
  {
   "cell_type": "code",
   "execution_count": null,
   "metadata": {},
   "outputs": [],
   "source": [
    "l = [1,2,3,4]\n",
    "print(l) #print([1,2,3,4])-->[1,2,3,4]\n",
    "print(*l) #print(1,2,3,4)-->1 2 3 4"
   ]
  },
  {
   "cell_type": "code",
   "execution_count": null,
   "metadata": {},
   "outputs": [],
   "source": [
    "name = [\"Tom\",\"Smith\"]\n",
    "print(name)\n",
    "print(*name)"
   ]
  },
  {
   "attachments": {},
   "cell_type": "markdown",
   "metadata": {},
   "source": [
    "#### 8.2.5 可变对象与不可变对象"
   ]
  },
  {
   "attachments": {},
   "cell_type": "markdown",
   "metadata": {},
   "source": [
    "在传递参数时，可变对象与不可变对象作为参数的效果不同。\n",
    "- 实参为不可变对象时，形参改变**不影响**实参；\n",
    "- 实参为可变对象时，形参改变**影响**实参。\n",
    "\n",
    "下面的代码说明了这一点："
   ]
  },
  {
   "cell_type": "code",
   "execution_count": null,
   "metadata": {},
   "outputs": [],
   "source": [
    "def changenum(number):\n",
    "    number = number + 1 # number+1\n",
    "def changelist(lst):\n",
    "    lst.append(10) #列表后面添加10\n",
    "\n",
    "a = 1 #不可变！\n",
    "print(a) # 1\n",
    "changenum(a) \n",
    "# number = a\n",
    "# number = number + 1\n",
    "print(a) # 1\n",
    "b = [1,2,3] #可变！\n",
    "print(b) #[1,2,3]\n",
    "changelist(b)\n",
    "# lst = b\n",
    "# lst.append(10)\n",
    "print(b) #[1,2,3,10]"
   ]
  },
  {
   "attachments": {},
   "cell_type": "markdown",
   "metadata": {},
   "source": [
    "### 8.3 函数返回值"
   ]
  },
  {
   "attachments": {},
   "cell_type": "markdown",
   "metadata": {},
   "source": [
    "在定义函数时，使用`return`语句返回某一个值。这个值将会被返回至函数调用的地方。\n",
    "\n",
    "如果函数没有`return`语句，则该函数的返回值为`None`；若`return`后面没有表达式，函数同样返回`None`。\n",
    "\n",
    "例如，集合的`add()`函数返回值就是`None`:"
   ]
  },
  {
   "cell_type": "code",
   "execution_count": null,
   "metadata": {},
   "outputs": [],
   "source": [
    "s = {1,2,3,4}\n",
    "print(s.add(5))"
   ]
  },
  {
   "attachments": {},
   "cell_type": "markdown",
   "metadata": {},
   "source": [
    "Python的函数返回值类型多样，除了我们已经知道的数字、字符串、列表、元组等，还可以是**函数**！下面的代码演示了将函数作为返回值："
   ]
  },
  {
   "cell_type": "code",
   "execution_count": null,
   "metadata": {},
   "outputs": [],
   "source": [
    "def plus(a,b): # 加法函数\n",
    "    return a+b\n",
    "def minus(a,b): # 减法函数\n",
    "    return a-b\n",
    "def wrong(a,b): # 报错函数\n",
    "    return \"Wrong!\"\n",
    "def f(operator): # 判断运算符函数 # 单一出口原则\n",
    "    op = {\"+\":plus,\"-\":minus}\n",
    "    try:\n",
    "        ret = op[operator]\n",
    "    except KeyError:\n",
    "        ret = wrong\n",
    "    # ret = wrong\n",
    "    # if operator == '+': \n",
    "    #     ret = plus\n",
    "    #     # return plus #返回plus函数\n",
    "    # elif operator == '-':\n",
    "    #     ret = minus\n",
    "    #     # return minus #返回minus函数\n",
    "    return ret\n",
    "\n",
    "\n",
    "x = input(\"请输入一个二元加减式，中间用空格分割：\") # 2 + 3\n",
    "operator = x.split()[1]\n",
    "number1 = int(x.split()[0])\n",
    "number2 = int(x.split()[2])\n",
    "print(x,\"=\",f(operator)(number1,number2)) #plus(number1,number2)"
   ]
  },
  {
   "attachments": {},
   "cell_type": "markdown",
   "metadata": {},
   "source": [
    "### 8.4 命名空间和作用域"
   ]
  },
  {
   "attachments": {},
   "cell_type": "markdown",
   "metadata": {},
   "source": [
    "对于变量而言，其可被妨问的范围称为变量的**作用域**，也称为变量的**命名空间**或**名字空间**。Python程序正是用命名空间区分不同空间的相同名字。\n",
    "\n",
    "Python解释器在启动时建立一个全局命名空间，存放全局变量。同时还建立**内置命名空间**，用以记录标准常量名、标准函数名等。在全局命名空间中定义的变量称为**全局变量**。\n",
    "\n",
    "每一个函数定义自己的命名空间，其内部定义的变量为**局部变量**。若在一个函数中定义变量`x`，在另一个函数中定义同名变量`x`。由于二者的命名空间不同，所以二者指代不同的变量。\n",
    "\n",
    "在Python当中，**赋值即定义**，因此语句`var=1`定义了变量`var`并将其赋值为1.\n",
    "\n",
    "对于全局变量而言，其定义在函数外，作用域为整个程序（在整个程序内都可被使用）；而局部变量定义在函数内部，作用域也是函数内部。我们所熟悉的**形参**就是局部变量。\n",
    "\n",
    "例如，下面的程序在函数`f()`当中定义了变量`a`，并且对其进行修改。同时在函数外（全局命名空间）也有一个同名变量`a`。这一段代码则说明了函数内部的赋值对函数外部变量的影响："
   ]
  },
  {
   "cell_type": "code",
   "execution_count": null,
   "metadata": {},
   "outputs": [],
   "source": [
    "def f():\n",
    "    a = 10 # 局域变量（仅在函数内部使用）\n",
    "    print(\"函数内：\"+str(a))\n",
    "a = 1\n",
    "print(\"函数外：\"+str(a))\n",
    "f()\n",
    "print(\"函数外：\"+str(a))"
   ]
  },
  {
   "attachments": {},
   "cell_type": "markdown",
   "metadata": {},
   "source": [
    "若希望在函数内部使用外部全局变量，则可以使用`global`语句对其进行**声明**。例如，下面的方式使函数内的`a`为全局变量："
   ]
  },
  {
   "cell_type": "code",
   "execution_count": null,
   "metadata": {},
   "outputs": [],
   "source": [
    "def f():\n",
    "    global a # 声明a是全局的a\n",
    "    a = 10 # 全局a赋值\n",
    "    print(\"函数内：\"+str(a))\n",
    "a = 1\n",
    "print(\"函数外：\"+str(a))\n",
    "f()\n",
    "print(\"函数外：\"+str(a))"
   ]
  },
  {
   "attachments": {},
   "cell_type": "markdown",
   "metadata": {},
   "source": [
    "### 8.5 递归"
   ]
  },
  {
   "attachments": {},
   "cell_type": "markdown",
   "metadata": {},
   "source": [
    "**递归**并非是Python所独有的，它实际上是**函数调用自身的算法**，使用递归通常使得一个大型复杂问题层层转化为一个相似的小问题，从而进一步简化代码。\n",
    "\n",
    "递归的关键在于提供终止条件，即在什么时候结束递归。在编写递归算法时必须提供终止条件，从而避免无限循环。\n",
    "\n",
    "下面的代码演示了斐波那契数列的递归程序，通过该程序得到第$n$个斐波那契数："
   ]
  },
  {
   "cell_type": "code",
   "execution_count": null,
   "metadata": {},
   "outputs": [],
   "source": [
    "def fib(n):\n",
    "    if n==0 or n==1:\n",
    "        return 1\n",
    "    else:\n",
    "        return fib(n-1)+fib(n-2) \n",
    "print(fib(4))"
   ]
  },
  {
   "cell_type": "code",
   "execution_count": null,
   "metadata": {},
   "outputs": [],
   "source": [
    "def printN(n):\n",
    "    if n==1:\n",
    "        print(1)\n",
    "    else:\n",
    "        printN(n-1)\n",
    "        print(n)\n",
    "printN(10)"
   ]
  },
  {
   "cell_type": "code",
   "execution_count": null,
   "metadata": {},
   "outputs": [],
   "source": [
    "def printN2(n):\n",
    "    for i in range(1,n+1):\n",
    "        print(i)\n",
    "printN2(10)"
   ]
  },
  {
   "attachments": {},
   "cell_type": "markdown",
   "metadata": {},
   "source": [
    "### 8.6 内置函数"
   ]
  },
  {
   "attachments": {},
   "cell_type": "markdown",
   "metadata": {},
   "source": [
    "Python内部包含很多已经函数，这些函数称为**内置函数**。这些函数是Python语言本身所具有的，你不需要额外引入任何库即可使用它们（关于如何引入库将在下一节进行介绍）；另外，这些函数与成员函数不同，你可以直接调用它们而不必说明对象。在前面，我们已经见到了很多，例如，我们所熟悉的输入输出函数`input(),print()`，以及类型转换函数，如`int(),str(),list(),tuple()`等。\n",
    "\n",
    "除此之外，Python内部还包含很多内部函数。下面是几个例子：\n",
    "\n",
    "`sorted()`函数与列表的`sort()`函数类似，但`sorted()`内置函数可以对字符串、列表、元组、字典等对象进行排序操作。由于`sorted()`支持对字符串和元组这种不可修改的序列进行排序，因此你可以想见，它不是对原来的序列进行修改，而是返回一个新的**列表**。`sorted()`函数的参数如下所示：\n",
    "\n",
    "```Python\n",
    "sorted(iterable[,key[,reverse=False]])\n",
    "```\n",
    "\n",
    "其中，`iterable`指字符串、列表、元组等序列（或者更专业的叫法，它们是**可迭代的**）；`key`是一个函数，缺省为空；`reverse`是排序规则，默认为`False`（升序），为`True`时则为降序。\n",
    "\n",
    "下面的代码演示了它的简单应用："
   ]
  },
  {
   "cell_type": "code",
   "execution_count": null,
   "metadata": {},
   "outputs": [],
   "source": [
    "a = sorted(\"hello\")\n",
    "print(a)\n",
    "b = sorted((1,5,2,6,3),reverse=True)\n",
    "print(b)\n",
    "c = sorted([1,2,3,4,5],key=(lambda a:a%2),reverse=True)\n",
    "print(c)"
   ]
  },
  {
   "attachments": {},
   "cell_type": "markdown",
   "metadata": {},
   "source": [
    "`map()`根据提供的函数对指定序列进行映射，其参数表如下：\n",
    "\n",
    "```Python\n",
    "map(function,iterable,...)\n",
    "```\n",
    "\n",
    "其中，`function`是对参数序列中每一个元素调用`function`函数，`iterable`是序列。函数将返回一个新的**列表或迭代器**，每个元素都是调用`function`后的返回值。\n",
    "\n",
    "例如，下面的代码使用`map()`函数输出了偶数序列（这只是一个演示，实际没人会用这个实现这个功能）："
   ]
  },
  {
   "cell_type": "code",
   "execution_count": null,
   "metadata": {},
   "outputs": [],
   "source": [
    "a = input()\n",
    "lst = a.split()\n",
    "print(lst) # [1,2,3,4,5]\n",
    "lst2 = map(int,lst) #[int(1),int(2),int(3),int(4),int(5)]\n",
    "print(float(\"1.1\"))"
   ]
  },
  {
   "cell_type": "code",
   "execution_count": null,
   "metadata": {},
   "outputs": [],
   "source": [
    "a = list(map(lambda a:2*a,range(1,10)))\n",
    "print(a)"
   ]
  },
  {
   "attachments": {},
   "cell_type": "markdown",
   "metadata": {},
   "source": [
    "**注意：`map()`函数本身返回值并不是一个列表，但是你可以不用详细了解这个类型。它也可以进行`for`循环遍历（可迭代类型）**："
   ]
  },
  {
   "cell_type": "code",
   "execution_count": null,
   "metadata": {},
   "outputs": [],
   "source": [
    "a = map(lambda a:a*2,range(1,10))\n",
    "print(type(a))\n",
    "for i in a:\n",
    "    print(i,end=' ')"
   ]
  },
  {
   "attachments": {},
   "cell_type": "markdown",
   "metadata": {},
   "source": [
    "`map()`函数可以提供多个列表，即里面的`function`可以接收多个参数。例如，下面实现了两个列表的对应元素相加："
   ]
  },
  {
   "cell_type": "code",
   "execution_count": null,
   "metadata": {},
   "outputs": [],
   "source": [
    "a = [1,2,3,4,5]\n",
    "b = [2,4,6,8,10]\n",
    "c = list(map(lambda a,b:a+b,a,b))\n",
    "print(c)"
   ]
  },
  {
   "attachments": {},
   "cell_type": "markdown",
   "metadata": {},
   "source": [
    "`zip()`函数可以将可迭代对象作为参数，将对应的元素打包成一个个元组，然后返回这些元组组成的列表或迭代器。若元素个数不一致，则按照最短的参数为准。其参数表如下：\n",
    "\n",
    "```Python\n",
    "zip([iterable,...])\n",
    "```\n",
    "\n",
    "其中，`iterable`为两个或多个序列，返回元组列表。下面是演示代码："
   ]
  },
  {
   "cell_type": "code",
   "execution_count": null,
   "metadata": {},
   "outputs": [],
   "source": [
    "a = [1,2,3,4]\n",
    "b = [2,3,4,5]\n",
    "c = [5,6,7,8,9,10]\n",
    "print(list(zip(a,b)))\n",
    "\n",
    "print(list(zip(a,c)))"
   ]
  },
  {
   "attachments": {},
   "cell_type": "markdown",
   "metadata": {},
   "source": [
    "下面的两个函数是极具Python特色的`eval()`函数和`exec()`，这是由于Python的特性是**动态语言**，即程序的很多内容都需要在运行中才能得到检查（这和C语言的编译不同）。这两个函数更好地体现了这个特点。\n",
    "\n",
    "这两个函数的参数都是字符串，但二者稍有不同，`eval()`是计算这个字符串的表达式，并返回表达式的值。例如：下面的代码可以很方便地实现一个“计算器”（这在C语言、Java语言等编译语言中是难以想象的！）："
   ]
  },
  {
   "cell_type": "code",
   "execution_count": null,
   "metadata": {},
   "outputs": [],
   "source": [
    "a = input(\"请输入一个表达式：\")\n",
    "print(a,'=',str(eval(a)),sep='')"
   ]
  },
  {
   "attachments": {},
   "cell_type": "markdown",
   "metadata": {},
   "source": [
    "`exac()`则运行Python程序，并返回程序运行结果。例如，下面的代码则通过用户输入一句应声虫代码，实现了相应的功能："
   ]
  },
  {
   "cell_type": "code",
   "execution_count": null,
   "metadata": {},
   "outputs": [],
   "source": [
    "a = input(\"请输入代码：\")\n",
    "exec(a)"
   ]
  },
  {
   "attachments": {},
   "cell_type": "markdown",
   "metadata": {},
   "source": [
    "另外，在Python当中还有一对函数，`all()`和`any()`。它们都是将可迭代的对象（如列表等）作为参数，它们的返回值都是布尔值（`True,False`），但前者是当参数都为`True`时返回`True`，否则返回`False`；而后者是只要有一个为`True`时则为`True`，全为`False`时返回`False`。\n",
    "\n",
    "下面的代码说明了这一点："
   ]
  },
  {
   "cell_type": "code",
   "execution_count": null,
   "metadata": {},
   "outputs": [],
   "source": [
    "a = [True,True,False]\n",
    "print(all(a))\n",
    "print(any(a))"
   ]
  },
  {
   "attachments": {},
   "cell_type": "markdown",
   "metadata": {},
   "source": [
    "### 8.7 程序结构"
   ]
  },
  {
   "attachments": {},
   "cell_type": "markdown",
   "metadata": {},
   "source": [
    "随着我们的程序慢慢复杂起来，代码可能会越来越长，为此我们可以使用函数来消除代码重复，提高代码效率。但是，对于多个场合使用的同一个函数，可以使用模块的方法把重复的函数进行整合，从而便于调用与传播。\n",
    "\n",
    "一个Python模块可以在不同文件中，这些文件是一个个模块，使用`import`语句引入，基本结构为：\n",
    "\n",
    "```Python\n",
    "import 模块名\n",
    "```\n",
    "\n",
    "其中，`模块名`为另外一个Python文件的文件名（没有扩展名）。实际上，`import`语句所做的事情就是执行了文件名为模块名的程序。\n",
    "\n",
    "例如，我们希望判断一个数是否为偶数，可以将下面的代码编写成一个Python文件(.py)，并将其保存在同一目录下：\n",
    "\n",
    "```Python\n",
    "def function(x):\n",
    "    return x%2\n",
    "```\n",
    "\n",
    "我们将这一文件命名为`mymodule.py`。在调用程序的过程中（主程序），就可以直接使用下面的方式调用该函数：\n",
    "\n",
    "```Python\n",
    "import mymodule\n",
    "print(mymodule.function(2))\n",
    "```\n",
    "\n",
    "或者，我们可以使用`from 模块名 import *`的方式将模块中的所有函数全部引入，此时在调用时就不必添加模块名。例如，上面的主程序还可以写作：\n",
    "\n",
    "```Python\n",
    "from mymodule import *\n",
    "print(function(2))\n",
    "```\n",
    "\n",
    "或者，还可以指定要引入的某个函数，可以使用`from 模块名 import 函数名`的形式，此时在调用时也不必添加模块名。例如，上述代码还可以被写作：\n",
    "\n",
    "```Python\n",
    "from mymodule import function\n",
    "print(function(2))\n",
    "```\n",
    "\n",
    "有时，为了方便管理模块，可以将多个模块文件组成目录，称为**包**。包是一个目录，其中包含了一组模块文件和一个`__init__.py`文件。如果模块存在于包中，则可以使用`import 包名.模块名`的方式导入，在调用函数时则需要使用`包名.模块名.函数`的方式调用。\n",
    "\n",
    "**注意：`__init__.py`文件在Python3.3之后可以没有！**"
   ]
  },
  {
   "attachments": {},
   "cell_type": "markdown",
   "metadata": {},
   "source": [
    "### 8.8 章末练习\n",
    "\n",
    "1. 编写一个函数`myprint()`，用于读取一个字典，逐行显示字典的各个条目。用户在调用时可能会提供“间隔符”，将作用于键和值之间，缺省为冒号`:`\n",
    "\n",
    "例如，用户调用时为`myprint({1:2,2:4,3:6,4:8},'-')`，输出结果为：\n",
    "```\n",
    "1-2\n",
    "2-4\n",
    "3-6\n",
    "4-8\n",
    "```\n",
    "\n",
    "2. 编写函数`vectorAdd()`，读取两个列表（向量），返回对应元素相加的结果。例如，调用时为`vectorAdd([1,2,3],[3,2,1])`，函数返回`[4,4,4]`。注意：在测试时请使用`print()`函数输出，而不是直接在你的`vectorAdd()`函数内输出！\n",
    "3. 改进第2题，使之可以接受多个向量的加法。同时，你应当使该函数可以检查用户输入的向量长度是否相等。若不相等，则抛出一个异常。抛出的异常可以是之前所介绍的<code><font color=\"red\"><b>AssertionError</b></font></code>，也可以是自定义的异常。关于自定义异常的方法，请查看下方的提示。\n",
    "\n",
    "<details>\n",
    "    <summary><font size=\"5\" color=\"darkgreen\"><b>关于自定义异常</b></font></summary>\n",
    "\n",
    "如果你希望抛出一个自定义的异常，可以使用`raise`语句，其基本格式为\n",
    "\n",
    "```Python\n",
    "raise 异常对象\n",
    "```\n",
    "\n",
    "其中，`异常对象`是一个类（或父类）为`Exception`的对象。目前，你并不需要创建一个自己的异常类，只需要使用`Exception`类即可。\n",
    "\n",
    "若想创建一个`Exception`类的对象，如同其他“类型转换函数”（如`list()`等），请使用如下格式的代码：\n",
    "\n",
    "```Python\n",
    "Exception(异常描述)\n",
    "```\n",
    "\n",
    "你可以在`异常描述`中添加一个字符串，以便在异常抛出时显示。\n",
    "\n",
    "至此，你已经知道如何抛出一个自定义的异常。如果你还是不知道，请查看下方的答案以获取相关代码：\n",
    "\n",
    "<details>\n",
    "    <summary><font size=\"3\" color=\"darkgreen\"><b>抛出自定义异常的代码</b></font></summary>\n",
    "\n",
    "```Python\n",
    "raise Exception(\"你的异常描述\")\n",
    "```\n",
    "\n",
    "\n",
    "</details>\n",
    "\n",
    "</details>"
   ]
  },
  {
   "cell_type": "markdown",
   "metadata": {},
   "source": []
  }
 ],
 "metadata": {
  "kernelspec": {
   "display_name": "base",
   "language": "python",
   "name": "python3"
  },
  "language_info": {
   "codemirror_mode": {
    "name": "ipython",
    "version": 3
   },
   "file_extension": ".py",
   "mimetype": "text/x-python",
   "name": "python",
   "nbconvert_exporter": "python",
   "pygments_lexer": "ipython3",
   "version": "3.9.12"
  },
  "orig_nbformat": 4,
  "vscode": {
   "interpreter": {
    "hash": "227122ec4afb26ccaa04dbd27b6cf80e927d414f7120f06ae327048081bf4160"
   }
  }
 },
 "nbformat": 4,
 "nbformat_minor": 2
}
