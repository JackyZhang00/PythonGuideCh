{
 "cells": [
  {
   "attachments": {},
   "cell_type": "markdown",
   "metadata": {},
   "source": [
    "# Python入门教程"
   ]
  },
  {
   "attachments": {},
   "cell_type": "markdown",
   "metadata": {},
   "source": [
    "## 第七章 数据类型（三）"
   ]
  },
  {
   "attachments": {},
   "cell_type": "markdown",
   "metadata": {},
   "source": [
    "### 7.1 集合"
   ]
  },
  {
   "attachments": {},
   "cell_type": "markdown",
   "metadata": {},
   "source": [
    "> 集合是一类“容器”，元素没有先后顺序，且元素的值不重复。\n",
    "\n",
    "集合的字面量使用花括号`{}`表示。例如，`{1,2,3}`，`{'apple','banana','orange'}`\n",
    "\n",
    "可以直接使用字面量进行赋值，如下："
   ]
  },
  {
   "cell_type": "code",
   "execution_count": null,
   "metadata": {},
   "outputs": [],
   "source": [
    "fruits = {'apple','orange','banana'}\n",
    "fruits = set(['apple','orange'])"
   ]
  },
  {
   "attachments": {},
   "cell_type": "markdown",
   "metadata": {},
   "source": [
    "或者使用`set()`函数创建集合（**包括空集合**）\n",
    "\n",
    "注意，对于列表，若创建空的列表，可以使用`[]`；对于元组，若创建空的元组，可以使用`()`；但对于集合，不能使用`{}`创建空集合！"
   ]
  },
  {
   "cell_type": "code",
   "execution_count": null,
   "metadata": {},
   "outputs": [],
   "source": [
    "empty = set()"
   ]
  },
  {
   "attachments": {},
   "cell_type": "markdown",
   "metadata": {},
   "source": [
    "同样地，可以使用`set()`函数将一个列表（元组）转换成集合："
   ]
  },
  {
   "cell_type": "code",
   "execution_count": null,
   "metadata": {},
   "outputs": [],
   "source": [
    "fruits = set(['apple','banana','orange'])"
   ]
  },
  {
   "attachments": {},
   "cell_type": "markdown",
   "metadata": {},
   "source": [
    "对于集合，元素的值**不重复**。因此，若在创建集合时包含重复的元素，Python会自动删除它们，仅保留一个。例如，若我们创建`set1 = {1,2,1,3,4}`，得到的结果将会是`{1,2,3,4}`"
   ]
  },
  {
   "cell_type": "code",
   "execution_count": null,
   "metadata": {},
   "outputs": [],
   "source": [
    "set1 = {4,3,2,1}\n",
    "print(set1)"
   ]
  },
  {
   "attachments": {},
   "cell_type": "markdown",
   "metadata": {},
   "source": [
    "对于集合，可以使用`add()`函数和`remove()`函数（对象函数）**添加/删除集合元素**。或者可以使用`min(),max(),len(),sum()`函数对集合进行操作（与列表类似）。\n",
    "\n",
    "特别注意，由于集合的元素是没有顺序的，因此不能通过下标进行访问。\n",
    "\n",
    "下面的程序体现了这一点："
   ]
  },
  {
   "cell_type": "code",
   "execution_count": null,
   "metadata": {},
   "outputs": [],
   "source": [
    "s = {1,2,3,4,5}\n",
    "print(len(s)) # 5\n",
    "print(min(s)) # 1\n",
    "print(max(s)) # 5\n",
    "print(sum(s)) # 15\n",
    "s.add(10)\n",
    "print(s) # {1,2,3,4,5,10}\n",
    "s.remove(1)\n",
    "print(s) # {2,3,4,5,10}"
   ]
  },
  {
   "attachments": {},
   "cell_type": "markdown",
   "metadata": {},
   "source": [
    "对于集合，同样可以使用`for`循环对其进行遍历："
   ]
  },
  {
   "cell_type": "code",
   "execution_count": null,
   "metadata": {},
   "outputs": [],
   "source": [
    "for i in {5,4,3,2,1}:\n",
    "    print(i)"
   ]
  },
  {
   "attachments": {},
   "cell_type": "markdown",
   "metadata": {},
   "source": [
    "与数学中的集合类似，Python中的集合也可以进行集合的运算。例如：\n",
    "- 使用`in`和`not in`判断某个元素**在**或**不在**集合内；\n",
    "- 使用`issubset()`和`issuperset()`成员函数判断是否为子集（超集）；\n",
    "- 使用`==`和`!=`判断是否相等\n",
    "\n",
    "下面的代码演示了这些："
   ]
  },
  {
   "cell_type": "code",
   "execution_count": null,
   "metadata": {},
   "outputs": [],
   "source": [
    "s1 = {1,2,3}\n",
    "s2 = {1,2,3,4,5}\n",
    "print(1 in s1)\n",
    "print(1 not in s1)\n",
    "print(s1.issubset(s2)) # s1 是 s2 的子集 True\n",
    "print(s1.issuperset(s2))\n",
    "print(s1==s2)\n",
    "print(s1!=s2)"
   ]
  },
  {
   "attachments": {},
   "cell_type": "markdown",
   "metadata": {},
   "source": [
    "也可以使用`>`,`<`,`>=`,`<=`表示子集的运算："
   ]
  },
  {
   "cell_type": "code",
   "execution_count": null,
   "metadata": {},
   "outputs": [],
   "source": [
    "s1 = {1,2,3,4,5}\n",
    "s2 = {1,2,3,4,5}\n",
    "print(s1<s2) # s1 是 s2 的“真子集”\n",
    "print(s1<=s2)"
   ]
  },
  {
   "attachments": {},
   "cell_type": "markdown",
   "metadata": {},
   "source": [
    "集合也可以进行交集、并集、差集、对称差的运算。函数表如下所示：\n",
    "|运算|函数|运算符|\n",
    "|:-:|:-:|:-:|\n",
    "|并集|`union()`|`\\|`|\n",
    "|交集|`intersection()`|`&`|\n",
    "|差集|`difference()`|`-`|\n",
    "|对称差|`symmertric_difference()`|`^`|\n",
    "\n",
    "示例如下："
   ]
  },
  {
   "cell_type": "code",
   "execution_count": null,
   "metadata": {},
   "outputs": [],
   "source": [
    "s1 = {2,3,5,7,11}\n",
    "s2 = {2,3,4,5,6,7}\n",
    "print(s1.union(s2))\n",
    "print(s1|s2) # {2,3,4,5,6,7,11}\n",
    "print(s1.intersection(s2))\n",
    "print(s1&s2) # {2,3,5,7}\n",
    "print(s1.difference(s2))\n",
    "print(s1-s2) # {11}\n",
    "# print(s1.symmertric_difference(s2))\n",
    "print(s1^s2) # {4,6,11}"
   ]
  },
  {
   "attachments": {},
   "cell_type": "markdown",
   "metadata": {},
   "source": [
    "## 7.2 字典(Hash Map)"
   ]
  },
  {
   "attachments": {},
   "cell_type": "markdown",
   "metadata": {},
   "source": [
    "> 字典是用一个**键**做索引来存储数据的集合。一个键和它所对应的数据形成字典中的一个条目。\n",
    "\n",
    "创建字典可以使用花括号`{}`表示，每个元素用冒号`:`分割键和数据。例如，下面的方法创建了一个字典："
   ]
  },
  {
   "cell_type": "code",
   "execution_count": null,
   "metadata": {},
   "outputs": [],
   "source": [
    "students = {30101:'张三',30102:'李四',30103:'王五'}"
   ]
  },
  {
   "attachments": {},
   "cell_type": "markdown",
   "metadata": {},
   "source": [
    "可以使用`{}`或者`dict()`创建空字典。对于`dict()`函数，参数可以是**键值对列表**，如下所示："
   ]
  },
  {
   "cell_type": "code",
   "execution_count": null,
   "metadata": {},
   "outputs": [],
   "source": [
    "fac = dict([(\"Math\",\"0001\"),(\"Python\",\"0002\")])\n",
    "print(fac)"
   ]
  },
  {
   "attachments": {},
   "cell_type": "markdown",
   "metadata": {},
   "source": [
    "或者也可以使用**关键字参数**（对于关键字参数的详细语法，在讲解**函数**时会详细介绍），可以使用下面的方式："
   ]
  },
  {
   "cell_type": "code",
   "execution_count": null,
   "metadata": {},
   "outputs": [],
   "source": [
    "fac2 = dict(math=\"0001\",Python=\"0002\")\n",
    "print(fac2)"
   ]
  },
  {
   "attachments": {},
   "cell_type": "markdown",
   "metadata": {},
   "source": [
    "**注意：字典的键必须是不可变对象，如数字、字符串、元组。而列表、字典等可变对象不可作为字典的键**"
   ]
  },
  {
   "cell_type": "code",
   "execution_count": null,
   "metadata": {},
   "outputs": [],
   "source": [
    "fac1 = {1:\"Math\",\"eng\":\"English\",(1,2):\"Python\"}\n",
    "fac2 = {[1,2]:\"Math\"}"
   ]
  },
  {
   "attachments": {},
   "cell_type": "markdown",
   "metadata": {},
   "source": [
    "字典与列表类似，是**可修改**的数据类型。但它的索引不是通过**位置**，而是通过**键**。若要取得某一个值，则可以使用`字典[键]`的方式。例如，下面定义了一个通讯录字典，里面存储了3个人的信息。你可以通过键（人名）访问到它的值，并对其进行修改等操作："
   ]
  },
  {
   "cell_type": "code",
   "execution_count": null,
   "metadata": {},
   "outputs": [],
   "source": [
    "phone = {\"张三\":112233,\"李四\":333444,\"王五\":555666}\n",
    "print(phone[\"张三\"])\n",
    "phone[\"张三\"] = 778899\n",
    "print(phone)"
   ]
  },
  {
   "attachments": {},
   "cell_type": "markdown",
   "metadata": {},
   "source": [
    "可以使用`del`语句删除某一个特定键。例如，若我们希望删除上述通讯录中`王五`的条目，则可以使用下面的代码：\n",
    "\n",
    "**注意：若试图删除不存在的键，则会引发<code><font color = \"red\">KeyError</font></code>异常**"
   ]
  },
  {
   "cell_type": "code",
   "execution_count": null,
   "metadata": {},
   "outputs": [],
   "source": [
    "del phone[\"王五\"]\n",
    "print(phone)\n",
    "print(phone[\"赵六\"])"
   ]
  },
  {
   "attachments": {},
   "cell_type": "markdown",
   "metadata": {},
   "source": [
    "对于字典，同样可以使用`for`循环对其进行遍历。但注意：**由于字典的顺序不固定，因此你在遍历时不能保证字典顺序是确定的**\n",
    "\n",
    "`for`循环取得的是字典的**键key**。下面的代码说明了这一点："
   ]
  },
  {
   "cell_type": "code",
   "execution_count": null,
   "metadata": {},
   "outputs": [],
   "source": [
    "phone = {\"张三\":111222,\"李四\":333444,\"王五\":555666}\n",
    "for name in phone:\n",
    "    print(name)\n",
    "    print(name+\":\"+str(phone[name]))"
   ]
  },
  {
   "attachments": {},
   "cell_type": "markdown",
   "metadata": {},
   "source": [
    "对于字典，可以使用`len()`函数获得字典的长度（条目数量），或者可以使用`in`和`not in`检测某一个键是否存在于字典中："
   ]
  },
  {
   "cell_type": "code",
   "execution_count": null,
   "metadata": {},
   "outputs": [],
   "source": [
    "phone = {\"张三\":111222,\"李四\":333444,\"王五\":555666}\n",
    "print(len(phone))\n",
    "print(\"张三\" in phone)\n",
    "print(\"赵六\" not in phone)"
   ]
  },
  {
   "attachments": {},
   "cell_type": "markdown",
   "metadata": {},
   "source": [
    "两个字典可以使用`==`和`!=`判断是否相同（键和值都相同）："
   ]
  },
  {
   "cell_type": "code",
   "execution_count": null,
   "metadata": {},
   "outputs": [],
   "source": [
    "phone = {\"张三\":111222,\"李四\":333444,\"王五\":555666}\n",
    "phone2 = {\"张三\":111222,\"李四\":333444,\"王五\":666555}\n",
    "print(phone == phone2)"
   ]
  },
  {
   "attachments": {},
   "cell_type": "markdown",
   "metadata": {},
   "source": [
    "字典的常见成员函数如下：\n",
    "|函数|返回值和说明|\n",
    "|:-:|:-:|\n",
    "|`keys()`|返回由所有键组成的序列|\n",
    "|`values()`|返回由所有值组成的序列|\n",
    "|`items()`|返回由所有元组（键，值）组成的序列|\n",
    "|`clear()`|删除所有条目|\n",
    "|`get(key)`|返回键`key`所对应的值|\n",
    "|`pop(key)`|返回键`key`所对应的值，同时删除这个条目|"
   ]
  },
  {
   "cell_type": "code",
   "execution_count": null,
   "metadata": {},
   "outputs": [],
   "source": [
    "phone = {\"张三\":111222,\"李四\":333444,\"王五\":555666}\n",
    "print(list(phone.keys()))\n",
    "print(phone.values())\n",
    "print(phone.items())\n",
    "phone.clear()\n",
    "print(phone)"
   ]
  },
  {
   "attachments": {},
   "cell_type": "markdown",
   "metadata": {},
   "source": [
    "对于`get()`函数而言，其基本效果与使用`[]`相同，但当查找不存在的键时，`get()`函数将返回`None`，而`[]`将抛出一个异常："
   ]
  },
  {
   "cell_type": "code",
   "execution_count": null,
   "metadata": {},
   "outputs": [],
   "source": [
    "phone = {\"张三\":111222,\"李四\":333444,\"王五\":555666}\n",
    "# key = input()\n",
    "# try:\n",
    "#     print(phone[key])\n",
    "# except KeyError:\n",
    "#     print(\"None\")\n",
    "print(phone.get(\"赵六\"))"
   ]
  },
  {
   "attachments": {},
   "cell_type": "markdown",
   "metadata": {},
   "source": [
    "使用`items()`函数，可以很方便地使用`for`循环对字典进行遍历："
   ]
  },
  {
   "cell_type": "code",
   "execution_count": null,
   "metadata": {},
   "outputs": [],
   "source": [
    "phone = {\"张三\":111222,\"李四\":333444,\"王五\":555666}\n",
    "# items = [(张三,111222),(李四,333444),(王五,555666)]\n",
    "# name,number = (张三,111222) 解包\n",
    "for name,number in phone.items():\n",
    "    print(name+\":\"+str(number))"
   ]
  },
  {
   "attachments": {},
   "cell_type": "markdown",
   "metadata": {},
   "source": [
    "## 7.3 章末练习\n",
    "\n",
    "1. 用户输入一系列正整数，用空格分割。程序应当输出一个字符串，有多行，每一行都是`数字: 用户输入的次数`。例如，用户输入数字分别为`1 3 2 1`，程序输出应当是：\n",
    "```\n",
    "1: 2\n",
    "2: 1\n",
    "3: 1\n",
    "```\n",
    "（顺序不限）\n",
    "\n",
    "2. 请设计一个分数管理系统，实现如下功能：用户输入一个字符串，其字符串按照`分数1 姓名1 分数2 姓名2……`的格式排列。例如，用户可能输入`李鸣 85 张檬 92`，表示成绩表为：\n",
    "<center>\n",
    "\n",
    "|姓名|成绩|\n",
    "|:-:|:-:|\n",
    "|李鸣|85|\n",
    "|张檬|92|\n",
    "\n",
    "</center>\n",
    "程序输出一个字符串，按照成绩从高到低进行排序。例如，上述情况，程序应当输出为<code>张檬 李鸣</code>(以空格为分割)"
   ]
  },
  {
   "cell_type": "code",
   "execution_count": null,
   "metadata": {},
   "outputs": [],
   "source": [
    "numbers = input().split()\n",
    "numbers_dict = {i:0 for i in numbers} # 字典初始化\n",
    "for i in numbers:\n",
    "    numbers_dict[i] += 1 # 每当有一个数字，次数+1\n",
    "for (number,count) in numbers_dict.items():\n",
    "    print(number+':'+str(count))"
   ]
  },
  {
   "cell_type": "markdown",
   "metadata": {},
   "source": []
  }
 ],
 "metadata": {
  "kernelspec": {
   "display_name": "base",
   "language": "python",
   "name": "python3"
  },
  "language_info": {
   "codemirror_mode": {
    "name": "ipython",
    "version": 3
   },
   "file_extension": ".py",
   "mimetype": "text/x-python",
   "name": "python",
   "nbconvert_exporter": "python",
   "pygments_lexer": "ipython3",
   "version": "3.9.12"
  },
  "orig_nbformat": 4,
  "vscode": {
   "interpreter": {
    "hash": "227122ec4afb26ccaa04dbd27b6cf80e927d414f7120f06ae327048081bf4160"
   }
  }
 },
 "nbformat": 4,
 "nbformat_minor": 2
}
