{
 "cells": [
  {
   "cell_type": "markdown",
   "metadata": {},
   "source": [
    "# Python入门教程"
   ]
  },
  {
   "cell_type": "markdown",
   "metadata": {},
   "source": [
    "## 第九章 文件"
   ]
  },
  {
   "cell_type": "markdown",
   "metadata": {},
   "source": [
    "### 9.1 基本的文件读写操作"
   ]
  },
  {
   "attachments": {},
   "cell_type": "markdown",
   "metadata": {},
   "source": [
    "计算机文件，是存储在某种长期储存设备上的一段数据流，其特点是所存信息可以长期、多次使用，不会因为断电而消失。\n",
    "\n",
    "计算机文件可以分为两种：**二进制文件和文本文件**\n",
    "\n",
    "图形文件和文字处理程序等计算机程序都属于二进制文件，这些文件含有特殊的格式和计算机代码；文本文件则是可以用文字处理程序阅读的简单文本文件。\n",
    "\n",
    "文件读写的步骤可以简单概括为以下三步：\n",
    "1. 打开文件\n",
    "2. 处理数据\n",
    "3. 关闭文件\n",
    "\n",
    "在Python当中，使用`open()`函数打开文件，其格式为：\n",
    "\n",
    "```Python\n",
    "fileobj = open(filename,mode)\n",
    "```\n",
    "\n",
    "其中`fileobj`为`open()`函数返回的文件对象；`filename`为文件名；`mode`为一串指明文件类型和操作的字符串。通常，第一个字母表示对其操作，详见下表，第二个字母表示文件类型，`t`表示文本文件（可省略），`b`表示二进制文件。\n",
    "\n",
    "文件打开模式|含义\n",
    ":-:|:-:\n",
    "`r`|只读模式（默认）\n",
    "`w`|覆盖写模式（不存在则新建，存在则重写）\n",
    "`a`|追加模式（不存在则新建，存在则只追加内容）\n",
    "`x`|创建写模式（不存在则新建，存在则出错）\n",
    "`+`|与`r`/`w`/`a`/`x`一起使用，增加读写功能\n",
    "`t`|文本类型\n",
    "`b`|二进制类型\n",
    "\n",
    "我们通常所使用的文件读写函数如下所示：\n",
    "\n",
    "名称|含义\n",
    ":-:|:-:\n",
    "`open()`|打开文件\n",
    "`read(size)`|从文件中读取长度为`size`的字符串，<br>如果没有给定或为负则读取所有内容\n",
    "`readline()`|读取整行，返回字符串\n",
    "`readlines()`|读取所有行并返回列表\n",
    "`write(s)`|把字符串`s`的内容写入文件\n",
    "`writelines(s)`|向文件写入一个元素为字符串的列表，<br>若要换行则需要自己加入每行的换行符\n",
    "`seek(off,whence=0)`|设置文件当前位置\n",
    "`tell()`|返回文件读写的当前位置\n",
    "`close()`|关闭文件，关闭后不能再进行读写操作"
   ]
  },
  {
   "cell_type": "markdown",
   "metadata": {},
   "source": [
    "例如，下面的代码试着将一段处理过的学生成绩输出至文件`score.txt`，假设列表内已经是处理过后的成绩："
   ]
  },
  {
   "cell_type": "code",
   "execution_count": null,
   "metadata": {},
   "outputs": [],
   "source": [
    "scores = [97,80,93,69,87,90,84,94,75,89,89,88,87,63,87,81,100,80] #列表\n",
    "strings = map(str,scores) # 将列表转换为字符串\n",
    "file = open(\"9/score.txt\",\"w\") # 以只写模式打开文件\n",
    "file.write(' '.join(strings))\n",
    "file.close()"
   ]
  },
  {
   "cell_type": "markdown",
   "metadata": {},
   "source": [
    "对于文件，我们也可以使用`readlines()`函数逐行读取整个文件，得到的是一个列表。例如，下面的文件有两列`x1,x2`，可以使用函数读取："
   ]
  },
  {
   "cell_type": "code",
   "execution_count": null,
   "metadata": {},
   "outputs": [],
   "source": [
    "file = open(\"9/points.txt\",\"r\")\n",
    "s = file.readlines()\n",
    "print(s)\n",
    "file.close()"
   ]
  },
  {
   "cell_type": "markdown",
   "metadata": {},
   "source": [
    "可以使用这些数据进行进一步的处理。例如，计算`x1+x2`并将结果作为第三列："
   ]
  },
  {
   "cell_type": "code",
   "execution_count": null,
   "metadata": {},
   "outputs": [],
   "source": [
    "file = open(\"9/points.txt\",\"r\") #打开文件\n",
    "head = file.readline() # 获取表头\n",
    "headlist = head.split()\n",
    "headlist.append('x1+x2')\n",
    "newhead = '\\t'.join(headlist)\n",
    "print(newhead) # x1\\tx2\\tx1+x2\n",
    "\n",
    "for line in file.readlines(): # 从第二行开始\n",
    "    points = line.split()\n",
    "    s = str(int(points[0])+int(points[1]))\n",
    "    points.append(s)\n",
    "    print('\\t'.join(points)) \n",
    "\n",
    "file.close()\n"
   ]
  },
  {
   "cell_type": "markdown",
   "metadata": {},
   "source": [
    "### 9.2 使用`Pandas`模块读写文件并进行处理*"
   ]
  },
  {
   "cell_type": "markdown",
   "metadata": {},
   "source": [
    "`Pandas`是python的一个数据分析包，最初是被作为金融数据分析工具而开发出来，其为时间序列分析提供了很好的支持。\n",
    "\n",
    "`Pandas`是基于`NumPy`的一种工具，纳入了大量函数和一些标准的数据模型，提供了高校操作大型数据集所需的工具，提供了大量能使我们快速便捷处理数据的函数和方法，从而让python成为强大而高校的数据分析环境。\n",
    "\n",
    "`Plotly`是一个基于JavaScript的动态绘图模块，其绘图效果与在网页上看到的动态交互式绘图结果是一样的，其默认绘图结果是一个HTML网页文件。\n",
    "\n",
    "其内部有着强大又丰富的绘图库，支持各种类型的绘图方案，由于是基于JavaScript的绘图库，因此其绘图结果可以与web应用无缝集成。\n",
    "\n",
    "最初，`Plotly`是一款商业化绘图软件，自从`plotly.js`开源之后，便可以使用本地的离线模式进行绘图，而不依赖于官方的服务器，使得绘图速度更快，并且绘图效果与在线绘图一样。\n",
    "\n",
    "为了使用离线模式，应当使用下面的语句：\n",
    "\n",
    "```Python\n",
    "from plotly.offline import plot\n",
    "```\n",
    "\n",
    "`DataFrame`是`Pandas`库的一种数据类型，是一个行和列都具有标签的表格，与Excel的电子表格并无不同。其使用非常方便，因此在你处理二维表格数据时，都应当使用它们。`DataFrame`可由元组、列表、字典或另一个`DataFrame`构造出来。\n",
    "\n",
    "例如，下面的代码使用`DataFrame`构造了上面的表格，并且对其进行可视化。**注意，为了使用这些库，你应当首先导入它们！**"
   ]
  },
  {
   "cell_type": "code",
   "execution_count": null,
   "metadata": {},
   "outputs": [],
   "source": [
    "from plotly.offline import plot\n",
    "from plotly import figure_factory as FF\n",
    "import pandas as pd"
   ]
  },
  {
   "cell_type": "code",
   "execution_count": null,
   "metadata": {},
   "outputs": [],
   "source": [
    "data = pd.DataFrame([[2,3],[1,3],[10,13],[-2,8],[5,9],[14,-3],[10,16],[7,9],[18,-5],\n",
    "[10,-6]],columns=(\"x1\",\"x2\"))\n",
    "table = FF.create_table(data)\n",
    "plot(table,show_link=False)"
   ]
  },
  {
   "cell_type": "markdown",
   "metadata": {},
   "source": [
    "下面的方法可以添加一列，从而计算`x1+x2`："
   ]
  },
  {
   "cell_type": "code",
   "execution_count": null,
   "metadata": {},
   "outputs": [],
   "source": [
    "data['x1+x2']=data['x1']+data['x2']\n",
    "table=FF.create_table(data)\n",
    "plot(table,show_link=False)"
   ]
  },
  {
   "cell_type": "code",
   "execution_count": null,
   "metadata": {},
   "outputs": [],
   "source": [
    "data['x1**2']=data['x1']**2\n",
    "table=FF.create_table(data)\n",
    "plot(table,show_link=False)"
   ]
  },
  {
   "cell_type": "markdown",
   "metadata": {},
   "source": [
    "下面的代码可以使用`Pandas`读写Excel文件。例如，文件`score.xlsx`存储了部分学生的学号、姓名和成绩（包括笔试成绩和平日成绩），按照$$\\text{总成绩}=0.7\\text{笔试成绩}+0.3\\text{平日成绩}$$计算总成绩并将其添加至后面一列，形成`scoregp.xlsx`文件，可以使用下面的代码："
   ]
  },
  {
   "cell_type": "code",
   "execution_count": null,
   "metadata": {},
   "outputs": [],
   "source": [
    "data = pd.read_excel(\"9/score.xlsx\") # 读取Excel文件\n",
    "data[\"总成绩\"]=data[\"笔试\"]*0.7+data[\"平日\"]*0.3 # 处理数据\n",
    "data.to_excel(\"9/scoregp.xlsx\",index=0) # 写入Excel文件"
   ]
  },
  {
   "cell_type": "markdown",
   "metadata": {},
   "source": [
    "### 9.3 数据可视化*"
   ]
  },
  {
   "cell_type": "markdown",
   "metadata": {},
   "source": [
    "下面的代码简单地使用了`plotly`库对数据进行了可视化："
   ]
  },
  {
   "cell_type": "code",
   "execution_count": null,
   "metadata": {},
   "outputs": [],
   "source": [
    "from plotly.offline import plot\n",
    "import plotly.express as px\n",
    "import pandas as pd"
   ]
  },
  {
   "cell_type": "code",
   "execution_count": null,
   "metadata": {},
   "outputs": [],
   "source": [
    "dataset = pd.DataFrame({\"x\":[1,2],\"y\":[5,6]})\n",
    "figure = px.line(dataset,x=\"x\",y=\"y\")\n",
    "plot(figure)"
   ]
  },
  {
   "cell_type": "markdown",
   "metadata": {},
   "source": [
    "下面的代码则使用Excel处理数据并绘制折线图（姓名和总成绩）："
   ]
  },
  {
   "cell_type": "code",
   "execution_count": null,
   "metadata": {},
   "outputs": [],
   "source": [
    "data = pd.read_excel(\"9/scoreGraph.xlsx\") # 读取Excel文件\n",
    "data[\"总成绩\"] = data[\"平日\"]*0.3+data[\"笔试\"]*0.7 # 计算总成绩\n",
    "figure = px.line(data,x=\"姓名\",y=\"总成绩\")\n",
    "plot(figure)"
   ]
  },
  {
   "cell_type": "markdown",
   "metadata": {},
   "source": [
    "还可以使用下面的代码将笔试成绩和总成绩的折线图同时绘制在一个图片里："
   ]
  },
  {
   "cell_type": "code",
   "execution_count": null,
   "metadata": {},
   "outputs": [],
   "source": [
    "from plotly.offline import plot\n",
    "import plotly.graph_objs as go\n",
    "\n",
    "import pandas as pd\n",
    "data = pd.read_excel(\"9/scoreGraph.xlsx\")\n",
    "data[\"总成绩\"] = data[\"平日\"]*0.3+data[\"笔试\"]*0.7\n",
    "\n",
    "xdata = data[\"姓名\"].tolist() # 转换成列表\n",
    "y1data = data[\"总成绩\"].tolist()\n",
    "y2data = data[\"笔试\"].tolist()\n",
    "\n",
    "trace0 = go.Scatter(x=xdata,y=y1data,name=\"总成绩\") # 绘制折线图\n",
    "trace1 = go.Scatter(x=xdata,y=y2data,name=\"笔试成绩\")\n",
    "mylayout = go.Layout(title = \"总成绩和笔试成绩相关图\")\n",
    "\n",
    "fig = go.Figure(data = [trace0,trace1],layout=mylayout)\n",
    "plot(fig)"
   ]
  },
  {
   "cell_type": "markdown",
   "metadata": {},
   "source": [
    "下面的方法可以绘制柱状图："
   ]
  },
  {
   "cell_type": "code",
   "execution_count": null,
   "metadata": {},
   "outputs": [],
   "source": [
    "data = pd.read_excel(\"9/scoreGraph.xlsx\")\n",
    "xdata = data[\"姓名\"].tolist()\n",
    "y1data = data[\"平日\"].tolist()\n",
    "y2data = data[\"笔试\"].tolist()\n",
    "\n",
    "trace0 = go.Bar(x=xdata,y=y1data,name=\"平日成绩\")\n",
    "trace1 = go.Bar(x=xdata,y=y2data,name=\"笔试成绩\")\n",
    "layout = go.Layout(title = \"层叠柱状图\",barmode=\"group\")\n",
    "\n",
    "fig = go.Figure(data=[trace0,trace1],layout=layout)\n",
    "plot(fig)"
   ]
  },
  {
   "cell_type": "markdown",
   "metadata": {},
   "source": [
    "下面的代码是一段用于绘制二次函数的代码（使用`plotly`），需要提出的是，下面的内容已经尽量使得代码容易理解且没有过多朝纲内容。实际上，我们通常使用`matplotlib`绘制函数图像，但不影响下面的代码作为演示："
   ]
  },
  {
   "cell_type": "code",
   "execution_count": null,
   "metadata": {},
   "outputs": [],
   "source": [
    "xdata = [0.01*i for i in range(0,200)]\n",
    "ydata = list(map(lambda x:x**2,xdata))\n",
    "\n",
    "trace = go.Scatter(x=xdata,y=ydata,name=\"x**2\")\n",
    "layout = go.Layout(title=\"平方函数图像\")\n",
    "\n",
    "fig = go.Figure(data=trace,layout=layout)\n",
    "plot(fig)"
   ]
  },
  {
   "attachments": {},
   "cell_type": "markdown",
   "metadata": {},
   "source": [
    "### 9.4 章末练习\n",
    "\n",
    "1. 在工作目录下有文件`9/test.txt`，里面有两列数据（`x`和`y`），表示直角坐标系当中的横坐标和纵坐标。请再添加一列，列标题叫做`isInCircle`，用以判断每一行的数据（点）是否在半径为1的圆内，若在则标记为`True`，若不存在则标记为`False`。将数据保存在`circle.txt`文件中。\n",
    "\n",
    "<details>\n",
    "    <summary><font size=\"5\" color=\"darkgreen\"><b>如何开根号</b></font></summary>\n",
    "\n",
    "你可以使用`math`库当中的`sqrt()`函数，具体代码可以查看下方提示。\n",
    "\n",
    "<details>\n",
    "    <summary><font size=\"3\" color=\"darkgreen\"><b>开根号的代码实现</b></font></summary>\n",
    "\n",
    "```Python\n",
    "import math\n",
    "math.sqrt(x)\n",
    "```\n",
    "\n",
    "</details>\n",
    "\n",
    "\n",
    "</details>\n",
    "\n",
    "2. 绘制正弦函数的图像（使用`plotly`库）。若你不知道如何计算三角函数，可以查看下面的提示：\n",
    "\n",
    "<details>\n",
    "    <summary><font size=\"5\" color=\"darkgreen\"><b>如何计算三角函数</b></font></summary>\n",
    "\n",
    "在`math`库当中有若干三角函数，你可以使用它们计算。例如，在库中就有函数`sin()`，其参数为弧度，返回值为正弦函数值。如果你不知道怎样调用，请查看下面的代码：\n",
    "\n",
    "<details>\n",
    "    <summary><font size=\"3\" color=\"darkgreen\"><b>计算正弦函数的代码</b></font></summary>\n",
    "\n",
    "```python\n",
    "import math\n",
    "math.sin(x)\n",
    "```\n",
    "\n",
    "</details>\n",
    "\n",
    "</details>"
   ]
  },
  {
   "cell_type": "markdown",
   "metadata": {},
   "source": []
  }
 ],
 "metadata": {
  "kernelspec": {
   "display_name": "Python 3 (ipykernel)",
   "language": "python",
   "name": "python3"
  },
  "language_info": {
   "codemirror_mode": {
    "name": "ipython",
    "version": 3
   },
   "file_extension": ".py",
   "mimetype": "text/x-python",
   "name": "python",
   "nbconvert_exporter": "python",
   "pygments_lexer": "ipython3",
   "version": "3.9.12"
  },
  "vscode": {
   "interpreter": {
    "hash": "227122ec4afb26ccaa04dbd27b6cf80e927d414f7120f06ae327048081bf4160"
   }
  }
 },
 "nbformat": 4,
 "nbformat_minor": 2
}
