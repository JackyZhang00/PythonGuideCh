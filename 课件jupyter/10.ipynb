{
 "cells": [
  {
   "attachments": {},
   "cell_type": "markdown",
   "metadata": {},
   "source": [
    "# Python入门教程"
   ]
  },
  {
   "attachments": {},
   "cell_type": "markdown",
   "metadata": {},
   "source": [
    "## 第十章 面向对象的编程介绍"
   ]
  },
  {
   "attachments": {},
   "cell_type": "markdown",
   "metadata": {},
   "source": [
    "### 10.1 面向对象编程"
   ]
  },
  {
   "attachments": {},
   "cell_type": "markdown",
   "metadata": {},
   "source": [
    "这是一种全新的思想，有必要在这里举一个形象的例子介绍一下它的总体思路。这一节几乎没有任何程序代码，（可能有几段，那也仅仅是为了演示，不必担心），请放轻松。\n",
    "\n",
    "让我们举一个很形象且很熟悉的例子——王者荣耀。在游戏中，我们有总共10个英雄，以及若干小兵（当然还有如炮兵、超级兵，甚至还有暴君等龙，但我们在这里简单一点，仅仅以小兵为例）所有英雄都有自己的血量等属性（这些属性是所有英雄所共有的，这个意思是，每个英雄都有“血量”这个属性，但它们的值是不一样的），每一个英雄又有自己独特的技能。英雄可以普通攻击，也可以释放技能。如果要编写程序模拟这个过程，应当怎样做呢？\n",
    "\n",
    "按照我们之前所了解的**面向过程的编程思路**，也许你会期望创建10个变量存储英雄的血量，或者使用更“优雅”的方法——创建一个列表或者字典。英雄会攻击，因此为了模拟攻击这个过程，你可能会期望创建一个函数，以便在攻击时调用。每个英雄都有自己的技能，因此你可能会创建若干函数用以描述技能效果。在实际运行时，你可能定义十个英雄的变量，然后当其发动技能时，可以调用函数。因此，它的代码（伪代码）可能如下所示：\n",
    "\n",
    "```Python\n",
    "def hero1_skill1(*hero): #hero1的技能1作用于hero\n",
    "    hps[hero1] = ...\n",
    "    hps[hero] = ...\n",
    "    其他效果\n",
    "def hero1_skill2(*hero):\n",
    "    ...\n",
    "def hero1_skill3(*hero):\n",
    "    ...\n",
    "...\n",
    "def attack(hero1,hero2): #hero1普通攻击hero2\n",
    "    ...\n",
    "\n",
    "hps = [英雄1血量,英雄2血量,英雄3血量,...,英雄10血量]\n",
    "一些其他共有属性 = [英雄1,英雄2,...,英雄10]\n",
    "\n",
    "hero1_skill1(hero6)\n",
    "attack(hero6,hero2)\n",
    "hero2_skill1(hero6)\n",
    "hero6_skill2(hero1,hero2)\n",
    "...\n",
    "\n",
    "```\n",
    "\n",
    "如果我们换一种思路呢？假设我们现在不再考虑这些细节，而仅仅考虑这里面**有什么**，以及**这些东西怎么样**，又会如何看待这些问题呢？\n",
    "\n",
    "还是以王者荣耀为例，此时我们不再纠结这些细节（如10个英雄等等），我们只会看到：游戏有英雄这种**类型**，它们有一些共同的东西（例如都有一些技能，都有血量等属性，都可以攻击等等），每一个英雄又是“特例”（它们的血量不同，技能不同等）。这种看待问题的方法就是**面向对象**，此时的伪代码可能会是下面这样：\n",
    "\n",
    "```Python\n",
    "class Hero: #对于英雄这个类（型）\n",
    "    hp,... # 一些共同的属性\n",
    "    \n",
    "    def attack(*hero): # 每一个英雄都会攻击\n",
    "        ... #一些攻击的细节，可能会用到英雄的属性\n",
    "    def skill1(*hero): # 技能1\n",
    "        ...\n",
    "    ...\n",
    "\n",
    "class Hero1(Hero): # 这句代码的含义是：Hero1这个类型“继承”自Hero\n",
    "    def skill1(*hero): #英雄1可能有自己的1技能\n",
    "        ...\n",
    "    ...\n",
    "\n",
    "...\n",
    "\n",
    "hero1 = Hero1(...) #创建Hero1这个特例（对象）\n",
    "hero2 = Hero2(...) #创建Hero2这个特例（对象）\n",
    "...\n",
    "\n",
    "hero1.skill1(hero6)\n",
    "hero6.attack(hero2)\n",
    "hero2.skill1(hero6)\n",
    "hero6.skill2(hero1,hero2)\n",
    "\n",
    "```\n",
    "\n",
    "简单来说，所谓**面向对象的编程**，指的是考虑**这些东西是什么，都有什么可以做的**。当然，面向对象究竟意味着什么，在这里介绍再多，也难以真正说明白。相信当你学习完这一部分之后，一定会有自己的理解。"
   ]
  },
  {
   "attachments": {},
   "cell_type": "markdown",
   "metadata": {},
   "source": [
    "### 10.2 面向对象的特征（1）：多态"
   ]
  },
  {
   "attachments": {},
   "cell_type": "markdown",
   "metadata": {},
   "source": [
    "<font size=\"2\">如果走起路像鸭子，叫起来也像鸭子，那么它就是鸭子。——鸭子类型</font>"
   ]
  },
  {
   "attachments": {},
   "cell_type": "markdown",
   "metadata": {},
   "source": [
    "> **多态**，指的是**有多种形态**，即你不知道变量指向是哪种对象，也可以对其进行操作，且操作将随对象的类型（类）发生变化。\n",
    "\n",
    "在前面，我们已经见过了“多态”的应用，就在下面的代码中："
   ]
  },
  {
   "cell_type": "code",
   "execution_count": null,
   "metadata": {},
   "outputs": [],
   "source": [
    "print('abc'.count('a'))\n",
    "print([1,2,'a'].count('a'))"
   ]
  },
  {
   "attachments": {},
   "cell_type": "markdown",
   "metadata": {},
   "source": [
    "上述代码指出，对于`count()`函数，你不需要指出它的对象究竟是什么便可以进行操作，换句话说，只要这个对象所属的类型具有`count()`这一成员函数，它便会自己执行正确的代码。从另一个角度看，凡是不知道对象是什么类型就能对其进行操作，都是**多态**，这不仅体现在函数上，还体现在一些运算符。例如，下面的代码将`+`分别作用于数字和字符串，得到了两个不同的效果："
   ]
  },
  {
   "cell_type": "code",
   "execution_count": null,
   "metadata": {},
   "outputs": [],
   "source": [
    "print(1+2)\n",
    "print(\"hello\"+\"world\")"
   ]
  },
  {
   "attachments": {},
   "cell_type": "markdown",
   "metadata": {},
   "source": [
    "或者再换种形式，假设我们以函数的形式定义这种运算："
   ]
  },
  {
   "cell_type": "code",
   "execution_count": null,
   "metadata": {},
   "outputs": [],
   "source": [
    "def add(a,b):\n",
    "    return a+b"
   ]
  },
  {
   "attachments": {},
   "cell_type": "markdown",
   "metadata": {},
   "source": [
    "此时，你便可以调用这一函数，只要参数是支持这一运算的，Python便可以帮你完成："
   ]
  },
  {
   "cell_type": "code",
   "execution_count": null,
   "metadata": {},
   "outputs": [],
   "source": [
    "x = [1,'hello',[1,2,3]]\n",
    "y = [2,'world',[4,5,6]]\n",
    "for i in range(3):\n",
    "    print(add(x[i],y[i]))"
   ]
  },
  {
   "attachments": {},
   "cell_type": "markdown",
   "metadata": {},
   "source": [
    "很显然，上面的代码利用循环传递不同的参数给`add()`函数，哪怕语句一样，程序也会自动找到正确的执行方式。\n",
    "\n",
    "事实上，你所编写的很多函数可能都具有多态的属性，即使你不知道。除非你有充分的理由打破这一规定（事实上，你也可以避免使用多态，只需要在编写代码时使用`type()`函数或者`issubclass()`等函数即可显式检查类型），但你仍然应当尽可能避免破坏多态。"
   ]
  },
  {
   "attachments": {},
   "cell_type": "markdown",
   "metadata": {},
   "source": [
    "### 10.3 面向对象的特征（2）：封装"
   ]
  },
  {
   "attachments": {},
   "cell_type": "markdown",
   "metadata": {},
   "source": [
    "> **封装**指的是向外部隐藏不必要的细节。\n",
    "\n",
    "简单来说，封装意味着你应当尽可能将数据保留在内部，而仅仅提供外部一些操作，这有助于你保护数据不受到外部干扰。简单说，你应该尽可能保证属性是对象自己所独有的，具体的操作应当是通过对象所提供的操作完成的，而不是直接进行修改访问。"
   ]
  },
  {
   "attachments": {},
   "cell_type": "markdown",
   "metadata": {},
   "source": [
    "### 10.4 面向对象的特征（3）：继承"
   ]
  },
  {
   "attachments": {},
   "cell_type": "markdown",
   "metadata": {},
   "source": [
    "如果你有两个类型，这两个类型具有一些相同的属性，但其中一个又有一些自己所独有的属性，可以考虑使用**继承**。我们先不讨论如何实现它，先仅仅考虑一个很简单的例子：\n",
    "\n",
    "假设你现在已经有了一个`Shape`类，里面有一个`draw()`方法，用以将对象绘制在屏幕上；此时你又期望有一个`Ractangle`类，它不仅仅可以绘制图像，还应当可以计算面积。此时，我们完全不必重写`Rectangle`类，而只需要让它继承自`Shape`，便可使得它也获得了`Shape`类所具有的`draw()`方法。"
   ]
  },
  {
   "attachments": {},
   "cell_type": "markdown",
   "metadata": {},
   "source": [
    "### 10.5 关于类的创建"
   ]
  },
  {
   "attachments": {},
   "cell_type": "markdown",
   "metadata": {},
   "source": [
    "到现在，对于**什么是类**，也许你有了自己的感觉。让我们再举一个例子以巩固一下——假设你面前有一个苹果，那么这个苹果则可以看作是“水果”这个**类**的一个对象（实例）；对于水果而言，也许还有其他的类型，如苹果、香蕉等等，这些东西则称为“水果”的**子类**。\n",
    "\n",
    "请注意，我们在类当中所说的“苹果”，指的是“这**种**苹果”，而对于你面前的“苹果”，指的是“这**个**苹果”。在英语当中，也许你会用复数apples表示类，而使用单数表示实例。在Python当中，我们通常约定使用首字母大写的单数表示类，因此，在Python当中，我们通常将“苹果”这个类命名为`Apple`。但是这只是约定，并不是强制要求的，因此你完全可以使用别的名字，但我们不建议你打破这种规则。\n",
    "\n",
    "<font size=\"3\">在后面，你还会见到很多约定的东西，这些东西都是可以变化的，但除非你有足够充分的理由，否则不应该“打破”它们。这些“约定”对于你和阅读你程序的其他人来说都是有好处的。</font>\n",
    "\n",
    "如果你想创建一个类，请使用下面的结构：\n",
    "\n",
    "```Python\n",
    "class 类名():\n",
    "\n",
    "    def 成员函数(self,参数):\n",
    "        ...\n",
    "    \n",
    "    def 成员函数(self,参数):\n",
    "        ...\n",
    "    \n",
    "    ...\n",
    "```\n",
    "\n",
    "<details>\n",
    "    <summary><font size=\"4\">关于旧式类和新式类</font></summary>\n",
    "\n",
    "在Python3之前，默认所创建的类型是**旧式类**，因此，若你想在旧版本（如Python2）创建新式类，请在脚本或模块开始使用下述赋值语句：\n",
    "\n",
    "```Python\n",
    "__metaclass__ = type\n",
    "```\n",
    "\n",
    "你也可以使用其他方法，如从新式类中派生子类（让你的类继承自`object`）。若你使用的是Python3，则无需考虑二者的区别，因为现在默认所创建的均属于**新式类**，而你现在也没有任何理由再使用旧式类了。\n",
    "\n",
    "</details>"
   ]
  },
  {
   "attachments": {},
   "cell_type": "markdown",
   "metadata": {},
   "source": [
    "例如，我们试着创建一个`Person`类，便可以用下面的代码："
   ]
  },
  {
   "cell_type": "code",
   "execution_count": null,
   "metadata": {},
   "outputs": [],
   "source": [
    "class Person(): # Person类\n",
    "    def set_name(self,name): \n",
    "        self.name = name # 成员变量name = 参数name\n",
    "    def get_name(self):\n",
    "        return self.name\n",
    "    def greet(self):\n",
    "        print(f\"Hello, I am {self.name}\")"
   ]
  },
  {
   "attachments": {},
   "cell_type": "markdown",
   "metadata": {},
   "source": [
    "你应当注意到，在类定义里面的每一个函数的第一个参数均为`self`，但这个参数往往不是直接调用的，而是用另一种更常见的方法（已经见过）进行调用。下面的代码便演示了这些函数的调用，但在开始之前，我们需要先创建出这个类的两个实例，创建的方法非常简单，使用下面的代码即可："
   ]
  },
  {
   "cell_type": "code",
   "execution_count": null,
   "metadata": {},
   "outputs": [],
   "source": [
    "foo = Person()\n",
    "bar = Person()"
   ]
  },
  {
   "attachments": {},
   "cell_type": "markdown",
   "metadata": {},
   "source": [
    "也许已经发现了，这种调用方法和我们之前所说的`list()`，`str()`特别像，事实上也正是如此。在Python内部，`list,str`也是类。当我们直接调用类名函数，便是定义了这个类的实例（对象）。有了这些对象，我们便可以进行进一步的操作（调用它的成员函数）："
   ]
  },
  {
   "cell_type": "code",
   "execution_count": null,
   "metadata": {},
   "outputs": [],
   "source": [
    "foo.set_name('Sam') # foo.name = Sam\n",
    "bar.set_name('Amy') # bar.name = Amy\n",
    "foo.greet()\n",
    "bar.greet()"
   ]
  },
  {
   "attachments": {},
   "cell_type": "markdown",
   "metadata": {},
   "source": [
    "事实上，`self`的含义就是**对象本身**，因此，在类的定义时，你可以使用`self.name`访问到**这个对象**的变量`name`。而在外部，同样你可以使用`对象.变量`的方式访问它们（不建议这样做，后面会说）"
   ]
  },
  {
   "cell_type": "code",
   "execution_count": null,
   "metadata": {},
   "outputs": [],
   "source": [
    "print(foo.name)\n",
    "foo.name = 'Jack'\n",
    "foo.greet()"
   ]
  },
  {
   "attachments": {},
   "cell_type": "markdown",
   "metadata": {},
   "source": [
    "回到一开始的问题，`self`究竟在哪里？就在你的`.`的前面。事实上，如果你愿意，完全可以使用下面的形式（看起来与函数定义时的参数类似），但我们不建议这样做："
   ]
  },
  {
   "cell_type": "code",
   "execution_count": null,
   "metadata": {},
   "outputs": [],
   "source": [
    "Person.set_name(foo,'Anna')\n",
    "Person.greet(foo)"
   ]
  },
  {
   "attachments": {},
   "cell_type": "markdown",
   "metadata": {},
   "source": [
    "### 10.6 隐藏"
   ]
  },
  {
   "attachments": {},
   "cell_type": "markdown",
   "metadata": {},
   "source": [
    "在前面的代码中，我们多次发现：**成员变量是可以通过外部进行修改的**。这明显违背了**封装**的原则。事实上，直接访问内部变量并不是一个好的方法，而更好的是提供一些成员函数来对其进行操作。然而，Python并没有强制的方法使得程序员无法访问内部变量（这与Java不同，在Java当中，你总是可以使得变量私有，即使用`private`，但Python并没有这种方法）如果你希望避免外部访问一些成员变量（函数），只需要在类的定义当中，使用两条下划线（`__`）即可。例如，下面的类定义修改了上述定义，使得用户不可以直接访问其成员变量(`name`)："
   ]
  },
  {
   "cell_type": "code",
   "execution_count": null,
   "metadata": {},
   "outputs": [],
   "source": [
    "class Person():\n",
    "    def set_name(self,name):\n",
    "        self.__name = name\n",
    "    def get_name(self):\n",
    "        return self.__name\n",
    "    def greet(self):\n",
    "        print(f\"Hello, I am {self.__name}\")"
   ]
  },
  {
   "attachments": {},
   "cell_type": "markdown",
   "metadata": {},
   "source": [
    "下面的代码说明你可以正常调用成员函数，但是你不可以直接访问成员变量："
   ]
  },
  {
   "cell_type": "code",
   "execution_count": null,
   "metadata": {},
   "outputs": [],
   "source": [
    "foo = Person()\n",
    "foo.set_name('Jerry') # foo.name = Jerry\n",
    "foo.greet()\n",
    "foo.__name = 'Tom'\n",
    "foo.greet()"
   ]
  },
  {
   "attachments": {},
   "cell_type": "markdown",
   "metadata": {},
   "source": [
    "如果你将成员函数定义为私有呢？那么**你不可以通过外部访问到这个成员函数**！下面的类演示了这一部分："
   ]
  },
  {
   "cell_type": "code",
   "execution_count": null,
   "metadata": {},
   "outputs": [],
   "source": [
    "class Secretive():\n",
    "    def __inaccessible(self): # 私有成员函数（无法在外部访问，但你可以在类内部访问）\n",
    "        print(\"You can't see me...\")\n",
    "    def accessible(self):\n",
    "        print(\"Hello...\")\n",
    "        self._inaccessible()"
   ]
  },
  {
   "attachments": {},
   "cell_type": "markdown",
   "metadata": {},
   "source": [
    "此时你不可以通过外部访问`__inaccessible()`成员函数："
   ]
  },
  {
   "cell_type": "code",
   "execution_count": null,
   "metadata": {},
   "outputs": [],
   "source": [
    "s = Secretive()\n",
    "s.__inaccessible()"
   ]
  },
  {
   "attachments": {},
   "cell_type": "markdown",
   "metadata": {},
   "source": [
    "事实上，在Python内部，这件事并不神秘——仅仅是将这些函数换了一个名字。如果你知道这种换名规则（在前面加上一个下划线和类名），便可以在外部访问这些成员变量（函数）："
   ]
  },
  {
   "cell_type": "code",
   "execution_count": null,
   "metadata": {},
   "outputs": [],
   "source": [
    "foo = Person()\n",
    "foo.set_name('Jerry') #foo.name = Jerry\n",
    "foo.greet()\n",
    "foo._Person__name='Tom' #__name --> _Person__name\n",
    "foo.greet()"
   ]
  },
  {
   "cell_type": "code",
   "execution_count": null,
   "metadata": {},
   "outputs": [],
   "source": [
    "s = Secretive()\n",
    "s._Secretive__inaccessible()"
   ]
  },
  {
   "attachments": {},
   "cell_type": "markdown",
   "metadata": {},
   "source": [
    "虽然如此，但我们强烈不建议你这样做。Python的这种规则给了一个强烈的信号：请不要在外部调用它们！\n",
    "\n",
    "如果你不希望名称被修改，又不希望用户调用它们，则可以在名字前面加上一个下划线（`_`）。这种约定使得`from module import *`不会导入这些名称。"
   ]
  },
  {
   "attachments": {},
   "cell_type": "markdown",
   "metadata": {},
   "source": [
    "### 10.7 类的继承"
   ]
  },
  {
   "attachments": {},
   "cell_type": "markdown",
   "metadata": {},
   "source": [
    "若一个类想要继承自另一个类，只需要在类定义时在后面的括号内加上**父类**即可。例如，下面的方法定义了一个`Animal`类，同时又定义了子类`Cat,Dog`："
   ]
  },
  {
   "cell_type": "code",
   "execution_count": null,
   "metadata": {},
   "outputs": [],
   "source": [
    "class Animal:\n",
    "    def init(self):\n",
    "        print(\"I am an animal...\")\n",
    "    def sound(self):\n",
    "        print(\"Sorry! I can't!\")\n",
    "\n",
    "class Cat(Animal):\n",
    "    def sound(self):\n",
    "        print(\"nia~\")\n",
    "\n",
    "class Dog(Animal):\n",
    "    def sound(self):\n",
    "        print(\"Woof!\")"
   ]
  },
  {
   "attachments": {},
   "cell_type": "markdown",
   "metadata": {},
   "source": [
    "你可以正常地创建`Animal`的对象，同时也可以创建`Cat`和`Dog`对象。子类继承了父类的所有，即父类的成员函数。因此，对于`Cat`和`Dog`类，你也可以调用`init()`函数："
   ]
  },
  {
   "cell_type": "code",
   "execution_count": null,
   "metadata": {},
   "outputs": [],
   "source": [
    "a = Animal()\n",
    "c = Cat()\n",
    "d = Dog()\n",
    "a.init()\n",
    "c.init()\n",
    "d.init()"
   ]
  },
  {
   "attachments": {},
   "cell_type": "markdown",
   "metadata": {},
   "source": [
    "然而，有趣的地方是，子类在这里“重写”了`sound()`函数，因此，你可以调用这些对象的`sound()`函数，它们的结果不同……"
   ]
  },
  {
   "cell_type": "code",
   "execution_count": null,
   "metadata": {},
   "outputs": [],
   "source": [
    "a.sound()\n",
    "c.sound()\n",
    "d.sound()"
   ]
  },
  {
   "attachments": {},
   "cell_type": "markdown",
   "metadata": {},
   "source": [
    "值得提出的是，子类可以继承自多个父类，这称为**多重继承**。但是，我们建议：**除非万不得已，否则不要使用这一特性**！许多其他编程语言（如Java）明确禁止了这种形式（若你使用多继承，编译会无法通过）"
   ]
  },
  {
   "cell_type": "code",
   "execution_count": null,
   "metadata": {},
   "outputs": [],
   "source": [
    "class Shape():\n",
    "    def draw(self):\n",
    "        print(\"I have drawn!\")\n",
    "\n",
    "class Area():\n",
    "    def draw(self):\n",
    "        print(\"Oh!! I can draw too!\")\n",
    "    \n",
    "    def area(self):\n",
    "        print(\"I can get!\")\n",
    "\n",
    "class Rectangle(Area,Shape):\n",
    "    def get_rectangle(self):\n",
    "        print(\"Rectangle!!\")"
   ]
  },
  {
   "cell_type": "code",
   "execution_count": null,
   "metadata": {},
   "outputs": [],
   "source": [
    "s = Shape()\n",
    "s.draw()\n",
    "a = Area()\n",
    "a.area()\n",
    "r = Rectangle()\n",
    "r.get_rectangle()\n",
    "r.area()\n",
    "r.draw()"
   ]
  },
  {
   "attachments": {},
   "cell_type": "markdown",
   "metadata": {},
   "source": [
    "### 10.8 接口与抽象类"
   ]
  },
  {
   "attachments": {},
   "cell_type": "markdown",
   "metadata": {},
   "source": [
    "在处理多态对象时，只需关注其接口——对外的方法和属性。在Python当中，不显式指定对象必须包含哪些方法才能用作参数，而是假定对象能够完成你要求它完成的任务。\n",
    "\n",
    "通常，你需要要求对象遵循特定的接口（即实现特定的方法），但也可以通过一些方法对其内部是否具有这些属性（方法）进行检查。例如，你可以定义下面的类："
   ]
  },
  {
   "cell_type": "code",
   "execution_count": null,
   "metadata": {},
   "outputs": [],
   "source": [
    "class Talk():\n",
    "    def talk(self): # talk方法\n",
    "        print(\"Hi!!\")"
   ]
  },
  {
   "attachments": {},
   "cell_type": "markdown",
   "metadata": {},
   "source": [
    "此时，你便可以使用函数`hasattr()`检查对象是否具有特定的属性："
   ]
  },
  {
   "cell_type": "code",
   "execution_count": null,
   "metadata": {},
   "outputs": [],
   "source": [
    "t = Talk() # Talk对象\n",
    "print(hasattr(t,\"talk\"))\n",
    "print(hasattr(t,\"sound\"))"
   ]
  },
  {
   "attachments": {},
   "cell_type": "markdown",
   "metadata": {},
   "source": [
    "相比较而言，更好地方法是让Python自动检查是否完成了这些方法。在历史上，Python依赖于“鸭子类型”，即假设所有对象都能正常工作。而其他编程语言都采用显式指定接口的想法.最终，Python提供了模块`abc`这种官方的方案以提供**抽象类**。一般而言，**抽象类**指的是不能实例化的类，其职责是定义子类应该实现的一组抽象方法。下面是一个例子：\n",
    "\n",
    "当然，在开始之前，请引入模块`abc`："
   ]
  },
  {
   "cell_type": "code",
   "execution_count": null,
   "metadata": {},
   "outputs": [],
   "source": [
    "from abc import ABC, abstractmethod # ABstractClass"
   ]
  },
  {
   "cell_type": "code",
   "execution_count": null,
   "metadata": {},
   "outputs": [],
   "source": [
    "class Talker(ABC): #ABC 抽象基类\n",
    "    def greet(self):\n",
    "        print(\"Hello\")\n",
    "    \n",
    "    @abstractmethod\n",
    "    def talk(self):\n",
    "        pass # pass:什么都没有"
   ]
  },
  {
   "attachments": {},
   "cell_type": "markdown",
   "metadata": {},
   "source": [
    "`@abstractmethod`是**装饰器**，这里的意思是描述该方法为**抽象的**，即必须在子类中实现的方法。\n",
    "\n",
    "抽象类最大的特点是不能被实例化："
   ]
  },
  {
   "cell_type": "code",
   "execution_count": null,
   "metadata": {},
   "outputs": [],
   "source": [
    "t = Talker()"
   ]
  },
  {
   "attachments": {},
   "cell_type": "markdown",
   "metadata": {},
   "source": [
    "如果从中派生一个子类，然而下面的代码同样没有实现抽象方法，因此也是抽象类（无法实例化）："
   ]
  },
  {
   "cell_type": "code",
   "execution_count": null,
   "metadata": {},
   "outputs": [],
   "source": [
    "class AnotherTalker(Talker):\n",
    "    pass\n",
    "\n",
    "a = AnotherTalker()"
   ]
  },
  {
   "attachments": {},
   "cell_type": "markdown",
   "metadata": {},
   "source": [
    "因此，正确的做法是实现这个方法："
   ]
  },
  {
   "cell_type": "code",
   "execution_count": null,
   "metadata": {},
   "outputs": [],
   "source": [
    "class AnotherTalker(Talker): # 1. 创建一个子类，继承自抽象父类\n",
    "    \n",
    "    def talk(self): # 2. 重写父类当中的抽象方法\n",
    "        print(\"Hi!!\")\n",
    "\n",
    "a = AnotherTalker()\n",
    "a.talk()\n",
    "a.greet()"
   ]
  },
  {
   "attachments": {},
   "cell_type": "markdown",
   "metadata": {},
   "source": [
    "### 10.9 章末练习"
   ]
  },
  {
   "attachments": {},
   "cell_type": "markdown",
   "metadata": {},
   "source": [
    "1.  设计一个播放器的类，可以输出里面所具有的文件信息，文件包括mp3和mp4"
   ]
  },
  {
   "cell_type": "code",
   "execution_count": null,
   "metadata": {},
   "outputs": [],
   "source": [
    "from abc import ABC,abstractmethod\n",
    "\n",
    "class Media(ABC):\n",
    "    @abstractmethod\n",
    "    def getInfo(self):\n",
    "        pass\n",
    "\n",
    "class MP3(Media):\n",
    "    def init(self,name,singer):\n",
    "        self.name = name\n",
    "        self.singer = singer\n",
    "    def getInfo(self):\n",
    "        return 'MP3--'+self.singer+':'+self.name\n",
    "\n",
    "class MP4(Media):\n",
    "    def init(self,name,director):\n",
    "        self.name = name\n",
    "        self.director = director\n",
    "    def getInfo(self):\n",
    "        return 'MP4--'+self.director+':'+self.name\n",
    "\n",
    "class Player():\n",
    "    def init(self):\n",
    "        self.list = []\n",
    "    def add(self,file):\n",
    "        self.list.append(file.getInfo())\n",
    "    def getAll(self):\n",
    "        print(self.list)"
   ]
  },
  {
   "cell_type": "code",
   "execution_count": null,
   "metadata": {},
   "outputs": [],
   "source": [
    "p = Player()\n",
    "p.init()\n",
    "\n",
    "mp3_1=MP3()\n",
    "mp3_1.init(\"MP3_1\",\"Singer1\")\n",
    "mp3_2 = MP3()\n",
    "mp3_2.init(\"MP3_2\",\"Singer2\")\n",
    "\n",
    "mp4_1 = MP4()\n",
    "mp4_1.init(\"MP4_1\",\"director1\")\n",
    "mp4_2 = MP4()\n",
    "mp4_2.init(\"MP4_2\",\"director2\")\n",
    "\n",
    "p.add(mp3_1)\n",
    "p.add(mp4_1)\n",
    "p.add(mp3_2)\n",
    "p.add(mp4_2)\n",
    "\n",
    "p.getAll()"
   ]
  },
  {
   "cell_type": "markdown",
   "metadata": {},
   "source": []
  }
 ],
 "metadata": {
  "kernelspec": {
   "display_name": "base",
   "language": "python",
   "name": "python3"
  },
  "language_info": {
   "codemirror_mode": {
    "name": "ipython",
    "version": 3
   },
   "file_extension": ".py",
   "mimetype": "text/x-python",
   "name": "python",
   "nbconvert_exporter": "python",
   "pygments_lexer": "ipython3",
   "version": "3.9.12"
  },
  "orig_nbformat": 4,
  "vscode": {
   "interpreter": {
    "hash": "227122ec4afb26ccaa04dbd27b6cf80e927d414f7120f06ae327048081bf4160"
   }
  }
 },
 "nbformat": 4,
 "nbformat_minor": 2
}
