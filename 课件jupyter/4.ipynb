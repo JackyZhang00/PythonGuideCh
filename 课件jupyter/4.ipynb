{
 "cells": [
  {
   "attachments": {},
   "cell_type": "markdown",
   "metadata": {},
   "source": [
    "# Python入门教程"
   ]
  },
  {
   "attachments": {},
   "cell_type": "markdown",
   "metadata": {},
   "source": [
    "## 第四章 数据类型（二）"
   ]
  },
  {
   "attachments": {},
   "cell_type": "markdown",
   "metadata": {},
   "source": [
    "### 4.1 序列"
   ]
  },
  {
   "attachments": {},
   "cell_type": "markdown",
   "metadata": {},
   "source": [
    "为满足程序中复杂的数据表示，Python支持组合数据类型，可以将一批数据作为一个整体进行操作，这就是数据容器的概念。\n",
    "\n",
    "对于序列而言，其内部可包含多个数据（元素），有先后次序，可使用其下标（索引）访问。序列的下标从0开始，后面依次是1，2，3，……\n",
    "\n",
    "常用的序列类型有：\n",
    "- 列表（list）\n",
    "- 字符串（string）\n",
    "- 元组（tuple）"
   ]
  },
  {
   "attachments": {},
   "cell_type": "markdown",
   "metadata": {},
   "source": [
    "在前面的学习中，我们已经了解了列表和字符串的一些基本操作。这里我们再将这些基本操作进行说明。注意：这些基本操作对于所有序列类型都成立！"
   ]
  },
  {
   "cell_type": "code",
   "execution_count": null,
   "metadata": {},
   "outputs": [],
   "source": [
    "x1 = [0,1,2,3,4] #列表\n",
    "x2 = [5,6,7,8,9]\n",
    "print(x1+x2) #连接\n",
    "print(x1*2) #重复\n",
    "print(x1[2]) #第三个元素\n",
    "print(x1[2:]) #切片\n",
    "print(x1[1:4:2]) #切片\n",
    "print(len(x1)) #长度\n",
    "print(max(x1)) #最大值\n",
    "print(min(x1)) #最小值\n",
    "print(1 in x1) #判断元素是否在序列中 True\n",
    "print(1 not in x1)"
   ]
  },
  {
   "attachments": {},
   "cell_type": "markdown",
   "metadata": {},
   "source": [
    "有一个操作是值得讨论的——**序列变量的赋值**。与其他类型（如数字）不同，如果将一个序列变量赋值给另一个变量，其实际上是表示**两个变量同时管理一个序列**，而不是将序列的值进行赋值。下面的例子说明了这一点："
   ]
  },
  {
   "cell_type": "code",
   "execution_count": null,
   "metadata": {},
   "outputs": [],
   "source": [
    "a = 1\n",
    "b = a\n",
    "b = 2\n",
    "print(a)"
   ]
  },
  {
   "cell_type": "code",
   "execution_count": null,
   "metadata": {},
   "outputs": [],
   "source": [
    "a = [1,2,3,4,5,6]\n",
    "b = a #a和b是“同一个”列表\n",
    "b[0]=100 #修改第一个元素（b）\n",
    "print(a)"
   ]
  },
  {
   "attachments": {},
   "cell_type": "markdown",
   "metadata": {},
   "source": [
    "或者我们可以使用`id()`函数确认这一点："
   ]
  },
  {
   "cell_type": "code",
   "execution_count": null,
   "metadata": {},
   "outputs": [],
   "source": [
    "a = [1,2,3,4,5,6]\n",
    "b = a\n",
    "print(id(a))\n",
    "print(id(b))"
   ]
  },
  {
   "attachments": {},
   "cell_type": "markdown",
   "metadata": {},
   "source": [
    "### 4.2 字符串"
   ]
  },
  {
   "attachments": {},
   "cell_type": "markdown",
   "metadata": {},
   "source": [
    "> 字符串是一连串字符，用英文单括号`'`或双括号`\"`括起来。\n",
    "\n",
    "注意：引号必须成对出现，如果字符串中出现某种引号，则必须用另一种引号括起来。如：\n",
    "```\n",
    "\"It's amazing!\"\n",
    "'He said,\"You are so cool!'\n",
    "```"
   ]
  },
  {
   "attachments": {},
   "cell_type": "markdown",
   "metadata": {},
   "source": [
    "如果希望表示多行字符串，可以使用三个引号表示，如下所示："
   ]
  },
  {
   "cell_type": "code",
   "execution_count": null,
   "metadata": {},
   "outputs": [],
   "source": [
    "str = '''This is a Test\n",
    "for multiple lines\n",
    "of text.'''\n",
    "print(str)"
   ]
  },
  {
   "attachments": {},
   "cell_type": "markdown",
   "metadata": {},
   "source": [
    "如果在程序中用多行表示一个字符串，则可以在结尾用反斜杠`\\`表示："
   ]
  },
  {
   "cell_type": "code",
   "execution_count": null,
   "metadata": {},
   "outputs": [],
   "source": [
    "str = 'Hello \\\n",
    "world'\n",
    "print(str)"
   ]
  },
  {
   "attachments": {},
   "cell_type": "markdown",
   "metadata": {},
   "source": [
    "如果希望输出含有转义字符的字符串，则可以在字符串前加一个字符`r`，表示**原始字符串**。此时字符串中的`\\`不被当作转义字符前缀："
   ]
  },
  {
   "cell_type": "code",
   "execution_count": null,
   "metadata": {},
   "outputs": [],
   "source": [
    "str = r'hello\\nworld'\n",
    "print(str)"
   ]
  },
  {
   "attachments": {},
   "cell_type": "markdown",
   "metadata": {},
   "source": [
    "注意：字符串是不可更改的！因此，你不可以通过如下方式更改一个字符串：\n",
    "```Python\n",
    "s='hello'\n",
    "s[0]='k'\n",
    "```"
   ]
  },
  {
   "cell_type": "code",
   "execution_count": null,
   "metadata": {},
   "outputs": [],
   "source": [
    "s = 'hello'\n",
    "s[0]='k'"
   ]
  },
  {
   "attachments": {},
   "cell_type": "markdown",
   "metadata": {},
   "source": [
    "### 4.3 对象函数初探"
   ]
  },
  {
   "attachments": {},
   "cell_type": "markdown",
   "metadata": {},
   "source": [
    "对象函数本应当是讲到**对象编程**时所提到的，但由于Python是面向对象的编程语言，其所有东西本质都是**对象**。为了便于后续的讨论，还是有必要把一些基本概念在这里进行简单的介绍。\n",
    "\n",
    "对于任何面向对象的编程语言而言，任何变量都应当是“对象”(个例)，而对象的共性就是**类**。在Python当中，可以使用函数`type()`获得一个对象的类。例如，以我们所知的类型演示："
   ]
  },
  {
   "cell_type": "code",
   "execution_count": null,
   "metadata": {},
   "outputs": [],
   "source": [
    "number = 123 #整数\n",
    "string = \"Hello\" #字符串\n",
    "print(type(number))\n",
    "print(type(string))"
   ]
  },
  {
   "attachments": {},
   "cell_type": "markdown",
   "metadata": {},
   "source": [
    "事实上，我们也可以自己创建一个类（类型）。但这是后面的内容，为了满足你的好奇心，先给出一个程序的例子："
   ]
  },
  {
   "cell_type": "code",
   "execution_count": null,
   "metadata": {},
   "outputs": [],
   "source": [
    "class MyClass():\n",
    "    def __init__(self):\n",
    "        print(\"Succeed!\")\n",
    "\n",
    "mc = MyClass()\n",
    "print(type(mc))"
   ]
  },
  {
   "attachments": {},
   "cell_type": "markdown",
   "metadata": {},
   "source": [
    "对于对象而言，你可以使用该对象的类所定义的一些函数，它们是作用于对象的，称为**成员函数**。在调用成员函数时，应当使用`成员变量.成员函数()`的形式。请注意中间的`.`"
   ]
  },
  {
   "attachments": {},
   "cell_type": "markdown",
   "metadata": {},
   "source": [
    "### 4.4 字符串的常用方法（函数）"
   ]
  },
  {
   "attachments": {},
   "cell_type": "markdown",
   "metadata": {},
   "source": [
    "下面这些函数是字符串常用的方法，请注意，这些函数都是**成员函数**。\n",
    "\n",
    "|成员函数|解释|\n",
    "|:-:|:-:|\n",
    "|`title()`|字符串单词首字母大写|\n",
    "|`lower()`|字符串小写|\n",
    "|`upper()`|字符串大写|"
   ]
  },
  {
   "cell_type": "code",
   "execution_count": null,
   "metadata": {},
   "outputs": [],
   "source": [
    "s=\"hello world\"\n",
    "print(s.title())\n",
    "s=\"HELLO\"\n",
    "print(s.lower())\n",
    "s=\"hello\"\n",
    "print(s.upper())\n",
    "\n",
    "s=\"hello\"\n",
    "s.upper()\n",
    "print(s) #HELLO? "
   ]
  },
  {
   "attachments": {},
   "cell_type": "markdown",
   "metadata": {},
   "source": [
    "|成员函数|解释|\n",
    "|:-:|:-:|\n",
    "|`strip()`|删除前后空格|\n",
    "|`rstrip()`|删除右空格|\n",
    "|`lstrip()`|删除左空格|"
   ]
  },
  {
   "cell_type": "code",
   "execution_count": null,
   "metadata": {},
   "outputs": [],
   "source": [
    "s=\"  hello   \"\n",
    "print(s)\n",
    "print(s.strip())\n",
    "print(s.rstrip())\n",
    "print(s.lstrip())"
   ]
  },
  {
   "cell_type": "code",
   "execution_count": null,
   "metadata": {},
   "outputs": [],
   "source": [
    "s = \"***hello!!!****\"\n",
    "print(s)\n",
    "print(s.strip(\"*!\"))"
   ]
  },
  {
   "attachments": {},
   "cell_type": "markdown",
   "metadata": {},
   "source": [
    "|成员函数|解释|\n",
    "|:-:|:-:|\n",
    "|`find(sub[,start[,end]])`|查找字符串中子串`sub`的位置|\n",
    "|`replace(old,new)`|将字符串中的`old`子串替换成`new`子串|\n",
    "|`join(X)`|将序列`X`合并成字符串|\n",
    "|`split()`|分割字符串为列表|\n",
    "|`count(sub)`|查找子串`sub`出现的次数|"
   ]
  },
  {
   "cell_type": "code",
   "execution_count": null,
   "metadata": {},
   "outputs": [],
   "source": [
    "s=\"hello\"\n",
    "print(s.find('ll')) #2\n",
    "print(s.find('ha')) #-1 没找到\n",
    "s=\"hello\"\n",
    "print(s.replace('e','a'))\n",
    "\n",
    "lst = [\"Hello\",\"World\"]\n",
    "print(\"\".join(lst)) #间隔字符串.join(列表)\n",
    "\n",
    "s = \"hello world\"\n",
    "print(s.split())\n",
    "\n",
    "print(s.count(\"l\"))"
   ]
  },
  {
   "attachments": {},
   "cell_type": "markdown",
   "metadata": {},
   "source": [
    "还有一个我们已经认识的“老朋友”——`format()`函数。也许已经想到了，这个函数实际上也是一个成员函数。曾经我们只是简单介绍了一下这个函数，现在我们展开讨论一下。\n",
    "\n",
    "下面给出了两个示例——只有一个占位符和多个占位符："
   ]
  },
  {
   "cell_type": "code",
   "execution_count": null,
   "metadata": {},
   "outputs": [],
   "source": [
    "age = 23\n",
    "name = \"Jack\"\n",
    "print('My age is {}'.format(age)) #My age is 23\n",
    "print('My name is {} and my age is {}'.format(name,age)) # 依次传递"
   ]
  },
  {
   "attachments": {},
   "cell_type": "markdown",
   "metadata": {},
   "source": [
    "除此之外，我们也可以使用索引来指定使用哪一个参数："
   ]
  },
  {
   "cell_type": "code",
   "execution_count": null,
   "metadata": {},
   "outputs": [],
   "source": [
    "age = 23\n",
    "name = \"Jack\"\n",
    "print('My name is {1} and my age is {0}'.format(age,name))"
   ]
  },
  {
   "attachments": {},
   "cell_type": "markdown",
   "metadata": {},
   "source": [
    "事实上，在占位符内可以指定很多信息（如填充字符、对齐方式等）。其一般格式为：`{<索引>:<填充字符><对齐方式><宽度.精度><格式>}`。例如："
   ]
  },
  {
   "cell_type": "code",
   "execution_count": null,
   "metadata": {},
   "outputs": [],
   "source": [
    "print('{0:*>10}'.format(10)) # >右对齐\n",
    "print('{:*<10}'.format(10)) # <左对齐\n",
    "print('{:*^10}'.format(10)) # ^居中对齐\n",
    "print('{:.2f}'.format(1/3))\n",
    "print('{:b}'.format(10)) #二进制\n",
    "print('{:o}'.format(10)) #八进制\n",
    "print('{:x}'.format(10)) #十六进制\n",
    "print('{:,}'.format(1234567890)) #按位分割\n",
    "print('{:#^20.3f}'.format(1234567.123456))"
   ]
  },
  {
   "attachments": {},
   "cell_type": "markdown",
   "metadata": {},
   "source": [
    "一个特别的是，对于Python>=3.6而言，提供了一个新的方法——`f-string`。其方法如下所示："
   ]
  },
  {
   "cell_type": "code",
   "execution_count": null,
   "metadata": {},
   "outputs": [],
   "source": [
    "name = \"Jack\"\n",
    "age = 23\n",
    "print(f\"My name is {name} and my age is {age}\")"
   ]
  },
  {
   "attachments": {},
   "cell_type": "markdown",
   "metadata": {},
   "source": [
    "为控制格式，我们还可以采用类似与C语言的`printf()`里面的方法——百分号(`%`)。但与C语言相比还是有一些差别的，下面是演示的示例："
   ]
  },
  {
   "cell_type": "code",
   "execution_count": null,
   "metadata": {},
   "outputs": [],
   "source": [
    "print(\"You are %d years old.\"%(23))\n",
    "print(\"Hi! %s! Happy birthday %d.\"%(\"John\",23))\n",
    "print(\"PI = %10.2f\"%3.14159)"
   ]
  },
  {
   "attachments": {},
   "cell_type": "markdown",
   "metadata": {},
   "source": [
    "### 4.5 深入列表"
   ]
  },
  {
   "attachments": {},
   "cell_type": "markdown",
   "metadata": {},
   "source": [
    "列表是由一系列按照指定顺序排列的元素组成。列表中的元素可以是不同类型。\n",
    "\n",
    "列表的表示用方括号(`[]`)将元素括起来，元素之间用逗号（`,`）分割。\n",
    "\n",
    "为了创建列表，可以使用下面的方法："
   ]
  },
  {
   "cell_type": "code",
   "execution_count": null,
   "metadata": {},
   "outputs": [],
   "source": [
    "a = [] #空列表\n",
    "s = \"\" #空字符串\n",
    "b = [1,2,3,4,5,6] #列表字面量\n",
    "c = list('Hello') #list函数\n",
    "d = list(range(1,10,2))\n",
    "print(a,b,c,d)"
   ]
  },
  {
   "attachments": {},
   "cell_type": "markdown",
   "metadata": {},
   "source": [
    "列表的元素可以是任意类型。可以是数字、字符串，当然也可以是列表。列表的列表组成了类似**矩阵**的结构："
   ]
  },
  {
   "cell_type": "code",
   "execution_count": null,
   "metadata": {},
   "outputs": [],
   "source": [
    "matrix = [\n",
    "    [1,2,3,4,5],\n",
    "    [2,3,4,5,6],\n",
    "    [3,4,5,6,7],\n",
    "    [4,5,6,7,8],\n",
    "    [5,6,7,8,9]\n",
    "]\n",
    "print(matrix)"
   ]
  },
  {
   "attachments": {},
   "cell_type": "markdown",
   "metadata": {},
   "source": [
    "对于一维列表而言，可以使用方括号进行索引与切片，对于多维列表而言，也具有这种操作。具体形式如下所示："
   ]
  },
  {
   "cell_type": "code",
   "execution_count": null,
   "metadata": {},
   "outputs": [],
   "source": [
    "a=list(\"Hello World\")\n",
    "matrix = [\n",
    "    [1,2,3,4],\n",
    "    [2,3,4,5],\n",
    "    [3,4,5,6],\n",
    "    [4,5,6,7]\n",
    "]\n",
    "print(a[1]) #e\n",
    "print(a[1:3]) #[e,l](有头没有尾)\n",
    "print(matrix[1][1]) #[2,3,4,5][1] = 3\n",
    "print(matrix[1][0:3]) #[2,3,4,5][0:3] = [2,3,4]"
   ]
  },
  {
   "attachments": {},
   "cell_type": "markdown",
   "metadata": {},
   "source": [
    "列表和字符串不同的是，列表是可以修改的。因此，可以通过索引或切片的方式对列表的元素进行赋值修改。注意：如果使用切片方式进行赋值，赋值号右边必须是列表："
   ]
  },
  {
   "cell_type": "code",
   "execution_count": null,
   "metadata": {},
   "outputs": [],
   "source": [
    "a = [1,3,5,7,9]\n",
    "a[0]=2\n",
    "print(a) #[2,3,5,7,9]\n",
    "a[0:2]=[5,100] \n",
    "print(a) #[5,100,5,7,9]\n",
    "a[0] = [1,2]\n",
    "print(a) #[1,2,100,5,7,9]? [[1,2],100,5,7,9]\n",
    "\n",
    "a = [1,3,5,7,9]\n",
    "#a[0:2] = 100 报错！\n",
    "a[0:2] = [100] #解包\n",
    "print(a) #[100,5,7,9]"
   ]
  },
  {
   "attachments": {},
   "cell_type": "markdown",
   "metadata": {},
   "source": [
    "删除元素可以使用`del`语句（注意：不是函数）"
   ]
  },
  {
   "cell_type": "code",
   "execution_count": null,
   "metadata": {},
   "outputs": [],
   "source": [
    "a = [1,3,5,7,9]\n",
    "#a[0] = [] --> [[],3,5,7,9]\n",
    "a[0:1] = [] #--> [3,5,7,9]\n",
    "print(a)\n"
   ]
  },
  {
   "cell_type": "code",
   "execution_count": null,
   "metadata": {},
   "outputs": [],
   "source": [
    "numbers = [1,2,3,4,5]\n",
    "del numbers[0]\n",
    "print(numbers)"
   ]
  },
  {
   "attachments": {},
   "cell_type": "markdown",
   "metadata": {},
   "source": [
    "下面介绍一些列表常用的成员函数：\n",
    "|成员函数|解释|\n",
    "|:-:|:-:|\n",
    "|`append()`|添加元素至列表后|\n",
    "|`clear()`|清除列表|\n",
    "|`count(x)`|计算列表中`x`出现的次数|\n",
    "|`copy()`|复制列表|\n",
    "|`extend(x)`|将列表`x`扩充到列表中|\n",
    "|`index(value[,start[,end]])`|计算在指定范围内`value`的下标|\n",
    "|`insert(index,x)`|在下标`index`的地方添加`x`|\n",
    "|`pop(index)`|返回并删除下标为`index`的元素，默认为最后一个|\n",
    "|`remove(value)`|删除值为`value`的第一个元素|\n",
    "|`reverse()`|倒置列表|\n",
    "|`sort()`|对列表进行排序|\n",
    "\n",
    "下面代码演示了这些成员函数："
   ]
  },
  {
   "cell_type": "code",
   "execution_count": null,
   "metadata": {},
   "outputs": [],
   "source": [
    "a = [1,2,3]\n",
    "#b = a\n",
    "b = a.copy()\n",
    "b[0] = 100\n",
    "print(a)"
   ]
  },
  {
   "cell_type": "code",
   "execution_count": null,
   "metadata": {},
   "outputs": [],
   "source": [
    "l = [1,2,3,4]\n",
    "l.append([5,6])\n",
    "print(l)"
   ]
  },
  {
   "cell_type": "code",
   "execution_count": null,
   "metadata": {},
   "outputs": [],
   "source": [
    "l=[0,1,2,3,4]\n",
    "l.append(5) #l=[0,1,2,3,4,5]\n",
    "print(l) #[0,1,2,3,4,5]\n",
    "l.clear()\n",
    "print(l) #[]\n",
    "\n",
    "l=[1,2,3,1,4,5,1,6,7,9]\n",
    "print(l.count(1)) #3\n",
    "l2=l.copy()\n",
    "print(l2) #[1,2,3,1,4,5,1,6,7,9]\n",
    "\n",
    "l=[0,1,2,3,4]\n",
    "l.extend([5,6])\n",
    "print(l) #[0,1,2,3,4,5,6]\n",
    "\n",
    "l=[1,2,3,1,4,5,1,6,7,9]\n",
    "print(l.index(1,2,5)) #3\n",
    "l.insert(0,10)\n",
    "print(l) #[10,1,2,3,1,4,5,1,6,7,9]\n",
    "p=l.pop() \n",
    "print(p) #9\n",
    "print(l) #[10,1,2,3,1,4,5,1,6,7]\n",
    "p=l.pop(0) \n",
    "print(p) #10\n",
    "print(l) #[1,2,3,1,4,5,1,6,7]\n",
    "\n",
    "l.remove(1)\n",
    "print(l) #[2,3,1,4,5,1,6,7]\n",
    "l.reverse()\n",
    "print(l) #[7,6,1,5,4,1,3,2]\n",
    "l.sort()\n",
    "print(l) #[1,1,2,3,4,5,6,7]"
   ]
  },
  {
   "attachments": {},
   "cell_type": "markdown",
   "metadata": {},
   "source": [
    "由于字符串和列表的相似性，有些时候是可以相互转换操作的。通常是使用`split()`函数和`join()`函数。这些函数在讲解字符串成员函数时已经介绍到了，这里再进行一些补充说明：\n",
    "\n",
    "对于`split()`函数，它的作用是将一个字符或字符子串将一个字符串进行分割并返回列表。因此，它内部可以传入一个参数，用以指示“分隔符”。如果没有这一参数，则默认以“空格”分割："
   ]
  },
  {
   "cell_type": "code",
   "execution_count": null,
   "metadata": {},
   "outputs": [],
   "source": [
    "string = \"2022/12/29\"\n",
    "print(string.split('/'))\n",
    "string = \"Hello World\"\n",
    "print(string.split())"
   ]
  },
  {
   "attachments": {},
   "cell_type": "markdown",
   "metadata": {},
   "source": [
    "函数`join()`用以将一个列表的各个字符串类型的元素组合成一个字符串，其中间的分隔符是前面的字符串。例如："
   ]
  },
  {
   "cell_type": "code",
   "execution_count": null,
   "metadata": {},
   "outputs": [],
   "source": [
    "l = ['21','26']\n",
    "print(\":\".join(l))"
   ]
  },
  {
   "attachments": {},
   "cell_type": "markdown",
   "metadata": {},
   "source": [
    "### 4.6 元组"
   ]
  },
  {
   "attachments": {},
   "cell_type": "markdown",
   "metadata": {},
   "source": [
    "元组是不可修改的任何类型的数据序列。元组像列表一样可以表达任何类型、任意数量的数据的有序序列。\n",
    "\n",
    "元组的字面量用圆括号`()`而不是方括号`[]`。\n",
    "\n",
    "创建元组的方法，可以使用圆括号的字面量，也可以使用`tuple()`方法，将其他序列类型转换为元组。"
   ]
  },
  {
   "cell_type": "code",
   "execution_count": null,
   "metadata": {},
   "outputs": [],
   "source": [
    "t1 = (1,2,3,4,5)\n",
    "print(t1)\n",
    "t2 = tuple(\"Hello\")\n",
    "print(t2)"
   ]
  },
  {
   "attachments": {},
   "cell_type": "markdown",
   "metadata": {},
   "source": [
    "元组与其他序列类型类似，也可以使用索引与切片取得某一个或多个元素的值。但务必注意：由于元组是不可修改的类型，因此不可以对其进行赋值！"
   ]
  },
  {
   "cell_type": "code",
   "execution_count": null,
   "metadata": {},
   "outputs": [],
   "source": [
    "t1 = (1,2,3,4,5,6)\n",
    "print(t1[0]) #1\n",
    "print(t1[1:4]) #(2,3,4)\n",
    "t1[0]=2 #报错"
   ]
  },
  {
   "attachments": {},
   "cell_type": "markdown",
   "metadata": {},
   "source": [
    "由于元组与列表的性质类似，因此许多列表的成员函数，元组同样可以适用。又由于元组不可修改，因此所有和修改列表有关的成员函数都不可用。因此，元组常用的成员函数如下："
   ]
  },
  {
   "cell_type": "code",
   "execution_count": null,
   "metadata": {},
   "outputs": [],
   "source": [
    "t1 = (1,2,3,1,4,5,1,7,8)\n",
    "print(t1.count(1))\n",
    "print(t1.index(1,1,4))\n",
    "t = t1"
   ]
  },
  {
   "attachments": {},
   "cell_type": "markdown",
   "metadata": {},
   "source": [
    "### 4.7 章末练习"
   ]
  },
  {
   "attachments": {},
   "cell_type": "markdown",
   "metadata": {},
   "source": [
    "1. 编写一个程序，用户输入一句英文文本，输出其单词的个数。为了方便起见，我们不考虑单词拼写的正确性，只考虑空格的分割。例如，用户输入`aaa bbb ccc dd eee`。输出`5`。\n",
    "2. 在第二章，已经编写了一个程序，用以进行经纬度转换。当时，用户输入的是一个度数，如23.5，输出度分秒形式，如23度30分0秒。现在，我们进一步完善这个程序。用户此时在输入时会添加东西南北关系，如输入`23.5N`，此时你的程序应当输出为`N23度30分0秒`。\n",
    "\n",
    "<details>\n",
    "   <summary><font color=\"darkgreen\"><b>关于获取数字的提示</b></font></summary>\n",
    "\n",
    "   用户输入的字符串当中包含最后的标识符，你应当提取出这个标识符，并且删除它。\n",
    "\n",
    "   <details>\n",
    "      <summary><font color=\"darkgreen\"><b>更多提示</b></font></summary>\n",
    "\n",
    "   可以使用下标索引和切片得到这两部分。要想获得最后的标识符，只需要取出最后一个字符即可；对于数字，则需要切片（从开头到最后一个字符之前）\n",
    "\n",
    "   如果你还不清楚怎样做，可以查看下面的答案：\n",
    "\n",
    "   <details>\n",
    "      <summary><font size=\"2\" color=\"darkgreen\"><b>提取标识符的答案</b></font></summary>\n",
    "\n",
    "   <code>s[-1]</code>\n",
    "\n",
    "   </details>\n",
    "\n",
    "   <details>\n",
    "      <summary><font size=\"2\" color=\"darkgreen\"><b>提取数字的答案</b></font></summary>\n",
    "\n",
    "   <code>s[:-1]</code>\n",
    "\n",
    "   </details>\n",
    "\n",
    "   </details>\n",
    "\n",
    "</details>\n",
    "\n",
    "3. 编写一个程序，用户输入一系列整数，如`5 -76 8 345 67`，将其按照从小到大的顺序排列输出`-76 5 8 67 345`。输入和输出都是以空格为分割。\n",
    "<details>\n",
    "   <summary><font color=\"darkgreen\"><b>关于类型的提示</b></font></summary>\n",
    "      \n",
    "   <code>input()</code>函数得到的是一串字符串，你应当使用某一种方法将其转换成列表。如果没有思路，请查看下方的提示。\n",
    "\n",
    "   <details>\n",
    "      <summary><font color=\"darkgreen\"><b>更多提示</b></font></summary>\n",
    "          \n",
    "   - 使用字符串的成员函数`split()`可以解决这个问题\n",
    "   - 此时你得到的将会是字符串列表，如何将其转换成数字列表呢？如果没有思路，请查看下方的提示。\n",
    "\n",
    "      <details>\n",
    "         <summary><font color=\"darkgreen\"><b>关于转换成数字列表的提示</b></font></summary>\n",
    "\n",
    "      - 请考虑使用**列表推导式**。如果你不知道怎样写，请查看下方的答案：\n",
    "\n",
    "         <details>\n",
    "            <summary><font size=\"2\" color=\"darkgreen\"><b>列表推导式答案</b></font></summary>\n",
    "\n",
    "         <code>[int(i) for i in ...]</code>\n",
    "\n",
    "         </details>\n",
    "         \n",
    "      </details>\n",
    "\n",
    "   </details>\n",
    "   \n",
    "</details>\n",
    "\n",
    "4. 编写一个程序，用以计算一系列摄氏度的和。用户将输入一系列摄氏温度，以字符`C`作为结尾标识，温度和温度之间以空格作为分割，如`12C 23C 5C 10C`，输出这些温度的和`50C`"
   ]
  },
  {
   "cell_type": "markdown",
   "metadata": {},
   "source": []
  }
 ],
 "metadata": {
  "kernelspec": {
   "display_name": "base",
   "language": "python",
   "name": "python3"
  },
  "language_info": {
   "codemirror_mode": {
    "name": "ipython",
    "version": 3
   },
   "file_extension": ".py",
   "mimetype": "text/x-python",
   "name": "python",
   "nbconvert_exporter": "python",
   "pygments_lexer": "ipython3",
   "version": "3.9.12"
  },
  "orig_nbformat": 4,
  "vscode": {
   "interpreter": {
    "hash": "227122ec4afb26ccaa04dbd27b6cf80e927d414f7120f06ae327048081bf4160"
   }
  }
 },
 "nbformat": 4,
 "nbformat_minor": 2
}
